{
 "metadata": {
  "name": "",
  "signature": "sha256:2b88359d40f38f8ba6bc996070bd6b8761cc7eae9ecd3c3abf994f07157aad18"
 },
 "nbformat": 3,
 "nbformat_minor": 0,
 "worksheets": [
  {
   "cells": [
    {
     "cell_type": "code",
     "collapsed": false,
     "input": [
      "%pylab inline"
     ],
     "language": "python",
     "metadata": {},
     "outputs": [
      {
       "output_type": "stream",
       "stream": "stdout",
       "text": [
        "Populating the interactive namespace from numpy and matplotlib\n"
       ]
      }
     ],
     "prompt_number": 5
    },
    {
     "cell_type": "code",
     "collapsed": false,
     "input": [
      "from sympy import *"
     ],
     "language": "python",
     "metadata": {},
     "outputs": [],
     "prompt_number": 6
    },
    {
     "cell_type": "code",
     "collapsed": false,
     "input": [
      "init_printing()"
     ],
     "language": "python",
     "metadata": {},
     "outputs": [],
     "prompt_number": 7
    },
    {
     "cell_type": "code",
     "collapsed": false,
     "input": [
      "#init_printing()"
     ],
     "language": "python",
     "metadata": {},
     "outputs": [],
     "prompt_number": 16
    },
    {
     "cell_type": "code",
     "collapsed": false,
     "input": [
      "n, N, t  = symbols(\"n, N, t\")"
     ],
     "language": "python",
     "metadata": {},
     "outputs": [],
     "prompt_number": 9
    },
    {
     "cell_type": "code",
     "collapsed": false,
     "input": [
      "phi = Function('phi')"
     ],
     "language": "python",
     "metadata": {},
     "outputs": [],
     "prompt_number": 10
    },
    {
     "cell_type": "code",
     "collapsed": false,
     "input": [
      "i,j = symbols(\"i,j\")"
     ],
     "language": "python",
     "metadata": {},
     "outputs": [],
     "prompt_number": 11
    },
    {
     "cell_type": "code",
     "collapsed": false,
     "input": [
      "c = symbols('c')"
     ],
     "language": "python",
     "metadata": {},
     "outputs": [],
     "prompt_number": 12
    },
    {
     "cell_type": "code",
     "collapsed": false,
     "input": [
      "C = FunctionMatrix(1, N, Lambda((i,n), c(n))); C"
     ],
     "language": "python",
     "metadata": {},
     "outputs": [
      {
       "latex": [
        "$$FunctionMatrix(1, N, Lambda((i, n), c(n)))$$"
       ],
       "metadata": {},
       "output_type": "pyout",
       "png": "[encoded data removed]",
       "prompt_number": 13,
       "text": [
        "[c(n)]"
       ]
      }
     ],
     "prompt_number": 13
    },
    {
     "cell_type": "code",
     "collapsed": false,
     "input": [
      "Phi = FunctionMatrix(1, N, Lambda((i,n), phi(n,t))); Phi"
     ],
     "language": "python",
     "metadata": {},
     "outputs": [
      {
       "latex": [
        "$$FunctionMatrix(1, N, Lambda((i, n), phi(n, t)))$$"
       ],
       "metadata": {},
       "output_type": "pyout",
       "png": "[encoded data removed]",
       "prompt_number": 15,
       "text": [
        "[\u03c6(n, t)]"
       ]
      }
     ],
     "prompt_number": 15
    },
    {
     "cell_type": "code",
     "collapsed": true,
     "input": [
      "P = Sum(C[0,n]*Phi[0,n],(n,-N/2,N/2)); P"
     ],
     "language": "python",
     "metadata": {},
     "outputs": [
      {
       "latex": [
        "$$\\sum_{n=- \\frac{N}{2}}^{\\frac{N}{2}} c{\\left (n \\right )} \\phi{\\left (n,t \\right )}$$"
       ],
       "metadata": {},
       "output_type": "pyout",
       "png": "[encoded data removed]",
       "prompt_number": 16,
       "text": [
        "   N                \n",
        "   \u2500                \n",
        "   2                \n",
        "  ___               \n",
        "  \u2572                 \n",
        "   \u2572    c(n)\u22c5\u03c6(n, t)\n",
        "   \u2571                \n",
        "  \u2571                 \n",
        "  \u203e\u203e\u203e               \n",
        "    -N              \n",
        "n = \u2500\u2500\u2500             \n",
        "     2              "
       ]
      }
     ],
     "prompt_number": 16
    },
    {
     "cell_type": "code",
     "collapsed": false,
     "input": [
      "omega_1 = symbols('omega_1')"
     ],
     "language": "python",
     "metadata": {},
     "outputs": [],
     "prompt_number": 13
    },
    {
     "cell_type": "code",
     "collapsed": false,
     "input": [
      "PP = P.subs(phi(n,t),exp(I*n*omega_1*t))"
     ],
     "language": "python",
     "metadata": {},
     "outputs": [],
     "prompt_number": 14
    },
    {
     "cell_type": "code",
     "collapsed": false,
     "input": [
      "PP.expand()"
     ],
     "language": "python",
     "metadata": {},
     "outputs": [
      {
       "latex": [
        "$$\\sum_{n=- \\frac{N}{2}}^{\\frac{N}{2}} c{\\left (n \\right )} e^{i n \\omega_{1} t}$$"
       ],
       "metadata": {},
       "output_type": "pyout",
       "png": "[encoded data removed]",
       "prompt_number": 15,
       "text": [
        "   N                  \n",
        "   \u2500                  \n",
        "   2                  \n",
        "  ___                 \n",
        "  \u2572                   \n",
        "   \u2572          \u2148\u22c5n\u22c5\u03c9\u2081\u22c5t\n",
        "   \u2571    c(n)\u22c5\u212f        \n",
        "  \u2571                   \n",
        "  \u203e\u203e\u203e                 \n",
        "    -N                \n",
        "n = \u2500\u2500\u2500               \n",
        "     2                "
       ]
      }
     ],
     "prompt_number": 15
    },
    {
     "cell_type": "code",
     "collapsed": false,
     "input": [
      "s = symbols('s')"
     ],
     "language": "python",
     "metadata": {},
     "outputs": [],
     "prompt_number": 16
    },
    {
     "cell_type": "code",
     "collapsed": false,
     "input": [
      "T = symbols('T')"
     ],
     "language": "python",
     "metadata": {},
     "outputs": [],
     "prompt_number": 17
    },
    {
     "cell_type": "code",
     "collapsed": false,
     "input": [
      "cc = 1/T*integrate(s(t)*exp(-I*n*omega_1*t),(t,-T/2,T/2)); cc"
     ],
     "language": "python",
     "metadata": {},
     "outputs": [
      {
       "latex": [
        "$$\\frac{1}{T} \\int_{- \\frac{T}{2}}^{\\frac{T}{2}} s{\\left (t \\right )} e^{- i n \\omega_{1} t}\\, dt$$"
       ],
       "metadata": {},
       "output_type": "pyout",
       "png": "[encoded data removed]",
       "prompt_number": 18,
       "text": [
        " T                    \n",
        " \u2500                    \n",
        " 2                    \n",
        " \u2320                    \n",
        " \u23ae        -\u2148\u22c5n\u22c5\u03c9\u2081\u22c5t   \n",
        " \u23ae  s(t)\u22c5\u212f          dt\n",
        " \u2321                    \n",
        "-T                    \n",
        "\u2500\u2500\u2500                   \n",
        " 2                    \n",
        "\u2500\u2500\u2500\u2500\u2500\u2500\u2500\u2500\u2500\u2500\u2500\u2500\u2500\u2500\u2500\u2500\u2500\u2500\u2500\u2500\u2500\u2500\n",
        "          T           "
       ]
      }
     ],
     "prompt_number": 18
    },
    {
     "cell_type": "code",
     "collapsed": false,
     "input": [
      "A, omega, theta = symbols('A, omega, theta')"
     ],
     "language": "python",
     "metadata": {},
     "outputs": [],
     "prompt_number": 23
    },
    {
     "cell_type": "code",
     "collapsed": false,
     "input": [
      "cc.subs(s(t), A*sin(t*omega + theta))"
     ],
     "language": "python",
     "metadata": {},
     "outputs": [
      {
       "latex": [
        "$$\\frac{1}{T} \\int_{- \\frac{T}{2}}^{\\frac{T}{2}} A e^{- i n \\omega_{1} t} \\sin{\\left (\\omega t + \\theta \\right )}\\, dt$$"
       ],
       "metadata": {},
       "output_type": "pyout",
       "png": "[encoded data removed]",
       "prompt_number": 24,
       "text": [
        " T                              \n",
        " \u2500                              \n",
        " 2                              \n",
        " \u2320                              \n",
        " \u23ae     -\u2148\u22c5n\u22c5\u03c9\u2081\u22c5t                \n",
        " \u23ae  A\u22c5\u212f         \u22c5sin(\u03c9\u22c5t + \u03b8) dt\n",
        " \u2321                              \n",
        "-T                              \n",
        "\u2500\u2500\u2500                             \n",
        " 2                              \n",
        "\u2500\u2500\u2500\u2500\u2500\u2500\u2500\u2500\u2500\u2500\u2500\u2500\u2500\u2500\u2500\u2500\u2500\u2500\u2500\u2500\u2500\u2500\u2500\u2500\u2500\u2500\u2500\u2500\u2500\u2500\u2500\u2500\n",
        "               T                "
       ]
      }
     ],
     "prompt_number": 24
    }
   ],
   "metadata": {}
  }
 ]
}