{
 "cells": [
  {
   "cell_type": "code",
   "execution_count": 1,
   "metadata": {
    "collapsed": true
   },
   "outputs": [],
   "source": [
    "import nltk"
   ]
  },
  {
   "cell_type": "code",
   "execution_count": 3,
   "metadata": {
    "collapsed": false
   },
   "outputs": [],
   "source": [
    "def rhyme(inp, level):\n",
    "    entries = nltk.corpus.cmudict.entries()\n",
    "    syllables = [(word, syl) for word, syl in entries if word == inp]\n",
    "    rhymes = []\n",
    "    for (word, syllable) in syllables:\n",
    "        rhymes += [word for word, pron in entries if pron[-level:] == syllable[-level:]]\n",
    "    return set(rhymes)"
   ]
  },
  {
   "cell_type": "code",
   "execution_count": 11,
   "metadata": {
    "collapsed": false
   },
   "outputs": [
    {
     "data": {
      "text/plain": [
       "{'along',\n",
       " 'aung',\n",
       " 'belong',\n",
       " 'chong',\n",
       " 'cong',\n",
       " 'cuong',\n",
       " 'dejong',\n",
       " 'dejonge',\n",
       " 'dejongh',\n",
       " 'delong',\n",
       " 'dong',\n",
       " 'drepung',\n",
       " 'fong',\n",
       " 'gong',\n",
       " 'guangdong',\n",
       " 'hmong',\n",
       " 'hong',\n",
       " 'hong-kong',\n",
       " 'jong',\n",
       " 'kong',\n",
       " 'kwong',\n",
       " 'kyong',\n",
       " 'kyoung',\n",
       " 'lifelong',\n",
       " 'long',\n",
       " 'luong',\n",
       " 'maung',\n",
       " 'mong',\n",
       " 'ong',\n",
       " 'phuong',\n",
       " 'pong',\n",
       " 'prolong',\n",
       " 'prong',\n",
       " 'pudong',\n",
       " 'quang',\n",
       " 'rong',\n",
       " 'sarong',\n",
       " 'see-kiong',\n",
       " 'song',\n",
       " 'spong',\n",
       " 'sprong',\n",
       " 'stong',\n",
       " 'strong',\n",
       " 'thong',\n",
       " 'throng',\n",
       " 'tong',\n",
       " 'truong',\n",
       " 'vietcong',\n",
       " 'vong',\n",
       " 'vuong',\n",
       " 'wong',\n",
       " 'wrong',\n",
       " 'xiong',\n",
       " 'xudong',\n",
       " 'xuedong',\n",
       " 'yearlong',\n",
       " 'yong',\n",
       " 'yuzong',\n",
       " 'zedong'}"
      ]
     },
     "execution_count": 11,
     "metadata": {},
     "output_type": "execute_result"
    }
   ],
   "source": [
    "rhyme('song',2)"
   ]
  },
  {
   "cell_type": "code",
   "execution_count": null,
   "metadata": {
    "collapsed": true
   },
   "outputs": [],
   "source": []
  }
 ],
 "metadata": {
  "kernelspec": {
   "display_name": "Python 3",
   "language": "python",
   "name": "python3"
  },
  "language_info": {
   "codemirror_mode": {
    "name": "ipython",
    "version": 3
   },
   "file_extension": ".py",
   "mimetype": "text/x-python",
   "name": "python",
   "nbconvert_exporter": "python",
   "pygments_lexer": "ipython3",
   "version": "3.4.3"
  }
 },
 "nbformat": 4,
 "nbformat_minor": 0
}
