{
 "metadata": {
  "name": "",
  "signature": "sha256:9cc352a147bb95e4f081e12e96043c08d94678851adb77e91a55c3c15e7951c5"
 },
 "nbformat": 3,
 "nbformat_minor": 0,
 "worksheets": [
  {
   "cells": [
    {
     "cell_type": "code",
     "collapsed": false,
     "input": [
      "import sympy"
     ],
     "language": "python",
     "metadata": {},
     "outputs": [],
     "prompt_number": 1
    },
    {
     "cell_type": "code",
     "collapsed": false,
     "input": [
      "x_1, y_1, x_2, y_2 = sympy.var('x_1, y_1, x_2, y_2')"
     ],
     "language": "python",
     "metadata": {},
     "outputs": [],
     "prompt_number": 2
    },
    {
     "cell_type": "code",
     "collapsed": false,
     "input": [
      "a, b = sympy.var('a, b')"
     ],
     "language": "python",
     "metadata": {},
     "outputs": [],
     "prompt_number": 3
    },
    {
     "cell_type": "code",
     "collapsed": false,
     "input": [
      "expr1 = sympy.Eq(y_1, a * x_1 + b)\n",
      "expr2 = sympy.Eq(y_2, a * x_2 + b)"
     ],
     "language": "python",
     "metadata": {},
     "outputs": [],
     "prompt_number": 5
    },
    {
     "cell_type": "code",
     "collapsed": false,
     "input": [
      "sol = sympy.solve([expr1, expr2], [a, b])"
     ],
     "language": "python",
     "metadata": {},
     "outputs": [],
     "prompt_number": 7
    },
    {
     "cell_type": "code",
     "collapsed": false,
     "input": [
      "sympy.pprint(sol)"
     ],
     "language": "python",
     "metadata": {},
     "outputs": [
      {
       "output_type": "stream",
       "stream": "stdout",
       "text": [
        "\u23a7   y\u2081 - y\u2082     x\u2081\u22c5y\u2082 - x\u2082\u22c5y\u2081\u23ab\n",
        "\u23a8a: \u2500\u2500\u2500\u2500\u2500\u2500\u2500, b: \u2500\u2500\u2500\u2500\u2500\u2500\u2500\u2500\u2500\u2500\u2500\u2500\u2500\u23ac\n",
        "\u23a9   x\u2081 - x\u2082        x\u2081 - x\u2082   \u23ad\n"
       ]
      }
     ],
     "prompt_number": 9
    },
    {
     "cell_type": "code",
     "collapsed": false,
     "input": [
      "m, n = sympy.var('m, n')"
     ],
     "language": "python",
     "metadata": {},
     "outputs": [],
     "prompt_number": 10
    },
    {
     "cell_type": "code",
     "collapsed": false,
     "input": [
      "sympy.pprint((sympy.E**n)**m)"
     ],
     "language": "python",
     "metadata": {},
     "outputs": [
      {
       "output_type": "stream",
       "stream": "stdout",
       "text": [
        "    m\n",
        "\u239b n\u239e \n",
        "\u239d\u212f \u23a0 \n"
       ]
      }
     ],
     "prompt_number": 23
    },
    {
     "cell_type": "code",
     "collapsed": false,
     "input": [
      "sympy.pprint(sympy.logcombine((sympy.E**n)**m))"
     ],
     "language": "python",
     "metadata": {},
     "outputs": [
      {
       "output_type": "stream",
       "stream": "stdout",
       "text": [
        "    m\n",
        "\u239b n\u239e \n",
        "\u239d\u212f \u23a0 \n"
       ]
      }
     ],
     "prompt_number": 33
    },
    {
     "cell_type": "code",
     "collapsed": false,
     "input": [
      "A = sympy.Matrix([a,a,a,a,a,a,a])"
     ],
     "language": "python",
     "metadata": {},
     "outputs": [],
     "prompt_number": 42
    },
    {
     "cell_type": "code",
     "collapsed": false,
     "input": [
      "sympy.count_ops(A*A.transpose(), visual=True)"
     ],
     "language": "python",
     "metadata": {},
     "outputs": [
      {
       "metadata": {},
       "output_type": "pyout",
       "prompt_number": 47,
       "text": [
        "49*POW"
       ]
      }
     ],
     "prompt_number": 47
    },
    {
     "cell_type": "code",
     "collapsed": false,
     "input": [
      "sympy.count_ops(A.transpose()*A, visual=True)"
     ],
     "language": "python",
     "metadata": {},
     "outputs": [
      {
       "metadata": {},
       "output_type": "pyout",
       "prompt_number": 48,
       "text": [
        "MUL + POW"
       ]
      }
     ],
     "prompt_number": 48
    },
    {
     "cell_type": "code",
     "collapsed": false,
     "input": [
      "A*A.transpose()"
     ],
     "language": "python",
     "metadata": {},
     "outputs": [
      {
       "metadata": {},
       "output_type": "pyout",
       "prompt_number": 44,
       "text": [
        "Matrix([\n",
        "[a**2, a**2, a**2, a**2, a**2, a**2, a**2],\n",
        "[a**2, a**2, a**2, a**2, a**2, a**2, a**2],\n",
        "[a**2, a**2, a**2, a**2, a**2, a**2, a**2],\n",
        "[a**2, a**2, a**2, a**2, a**2, a**2, a**2],\n",
        "[a**2, a**2, a**2, a**2, a**2, a**2, a**2],\n",
        "[a**2, a**2, a**2, a**2, a**2, a**2, a**2],\n",
        "[a**2, a**2, a**2, a**2, a**2, a**2, a**2]])"
       ]
      }
     ],
     "prompt_number": 44
    },
    {
     "cell_type": "code",
     "collapsed": false,
     "input": [
      "A.transpose()*A"
     ],
     "language": "python",
     "metadata": {},
     "outputs": [
      {
       "metadata": {},
       "output_type": "pyout",
       "prompt_number": 46,
       "text": [
        "Matrix([[7*a**2]])"
       ]
      }
     ],
     "prompt_number": 46
    },
    {
     "cell_type": "code",
     "collapsed": false,
     "input": [
      "t = sympy.var('t')"
     ],
     "language": "python",
     "metadata": {},
     "outputs": [],
     "prompt_number": 49
    },
    {
     "cell_type": "code",
     "collapsed": false,
     "input": [
      "sympy.I"
     ],
     "language": "python",
     "metadata": {},
     "outputs": [
      {
       "metadata": {},
       "output_type": "pyout",
       "prompt_number": 50,
       "text": [
        "I"
       ]
      }
     ],
     "prompt_number": 50
    },
    {
     "cell_type": "code",
     "collapsed": false,
     "input": [
      "expr = ( (sympy.E**(sympy.I*2*sympy.pi*(a+b*t)*t) * sympy.E**(-sympy.I*2*sympy.pi*(b*t)*t) )**(1/a) )"
     ],
     "language": "python",
     "metadata": {},
     "outputs": [],
     "prompt_number": 54
    },
    {
     "cell_type": "code",
     "collapsed": false,
     "input": [
      "sympy.pprint(expr)"
     ],
     "language": "python",
     "metadata": {},
     "outputs": [
      {
       "output_type": "stream",
       "stream": "stdout",
       "text": [
        "    _________________________________\n",
        "   \u2571            2                    \n",
        "a \u2571   -2\u22c5\u2148\u22c5\u03c0\u22c5b\u22c5t   2\u22c5\u2148\u22c5\u03c0\u22c5t\u22c5(a + b\u22c5t) \n",
        "\u2572\u2571   \u212f           \u22c5\u212f                  \n"
       ]
      }
     ],
     "prompt_number": 56
    },
    {
     "cell_type": "code",
     "collapsed": false,
     "input": [
      "sympy.pprint(expr.simplify())"
     ],
     "language": "python",
     "metadata": {},
     "outputs": [
      {
       "output_type": "stream",
       "stream": "stdout",
       "text": [
        "   ____________\n",
        "a \u2571  2\u22c5\u2148\u22c5\u03c0\u22c5a\u22c5t \n",
        "\u2572\u2571  \u212f          \n"
       ]
      }
     ],
     "prompt_number": 71
    },
    {
     "cell_type": "code",
     "collapsed": false,
     "input": [
      "sympy.count_ops(expr.simplify(), visual=True)"
     ],
     "language": "python",
     "metadata": {},
     "outputs": [
      {
       "metadata": {},
       "output_type": "pyout",
       "prompt_number": 73,
       "text": [
        "DIV + EXP + 4*MUL + POW"
       ]
      }
     ],
     "prompt_number": 73
    },
    {
     "cell_type": "code",
     "collapsed": false,
     "input": [
      "sympy.count_ops(expr, visual=True)"
     ],
     "language": "python",
     "metadata": {},
     "outputs": [
      {
       "metadata": {},
       "output_type": "pyout",
       "prompt_number": 75,
       "text": [
        "ADD + 2*DIV + 2*EXP + 9*MUL + 2*POW"
       ]
      }
     ],
     "prompt_number": 75
    },
    {
     "cell_type": "code",
     "collapsed": false,
     "input": [
      "A = sympy.MatrixSymbol?"
     ],
     "language": "python",
     "metadata": {},
     "outputs": [],
     "prompt_number": 78
    },
    {
     "cell_type": "code",
     "collapsed": false,
     "input": [
      "N, M = sympy.var('N, M')"
     ],
     "language": "python",
     "metadata": {},
     "outputs": [],
     "prompt_number": 79
    },
    {
     "cell_type": "code",
     "collapsed": false,
     "input": [
      "A = sympy.MatrixSymbol('A', N, M)"
     ],
     "language": "python",
     "metadata": {},
     "outputs": [],
     "prompt_number": 114
    },
    {
     "cell_type": "code",
     "collapsed": false,
     "input": [
      "sympy.count_ops(A*A.transpose())"
     ],
     "language": "python",
     "metadata": {},
     "outputs": [
      {
       "metadata": {},
       "output_type": "pyout",
       "prompt_number": 115,
       "text": [
        "0"
       ]
      }
     ],
     "prompt_number": 115
    },
    {
     "cell_type": "code",
     "collapsed": false,
     "input": [
      "(A*A.transpose())[0,0]"
     ],
     "language": "python",
     "metadata": {},
     "outputs": [
      {
       "metadata": {},
       "output_type": "pyout",
       "prompt_number": 116,
       "text": [
        "Sum(A[0, _k]**2, (_k, 0, M - 1))"
       ]
      }
     ],
     "prompt_number": 116
    },
    {
     "cell_type": "code",
     "collapsed": false,
     "input": [
      "sympy.MatrixSymbol?"
     ],
     "language": "python",
     "metadata": {},
     "outputs": [],
     "prompt_number": 117
    },
    {
     "cell_type": "code",
     "collapsed": false,
     "input": [
      "expr = (A*A.transpose())"
     ],
     "language": "python",
     "metadata": {},
     "outputs": [],
     "prompt_number": 134
    },
    {
     "cell_type": "code",
     "collapsed": false,
     "input": [
      "sympy.pprint((A*A.transpose())[1,4])"
     ],
     "language": "python",
     "metadata": {},
     "outputs": [
      {
       "output_type": "stream",
       "stream": "stdout",
       "text": [
        "M - 1                \n",
        " ___                 \n",
        " \u2572                   \n",
        "  \u2572   A[1, k]\u22c5A[4, k]\n",
        "  \u2571                  \n",
        " \u2571                   \n",
        " \u203e\u203e\u203e                 \n",
        "k = 0                \n"
       ]
      }
     ],
     "prompt_number": 135
    },
    {
     "cell_type": "code",
     "collapsed": false,
     "input": [
      "expr2 = expr.subs({N: 10, M: 20})"
     ],
     "language": "python",
     "metadata": {},
     "outputs": [],
     "prompt_number": 136
    },
    {
     "cell_type": "code",
     "collapsed": false,
     "input": [
      "expr2[1,4]"
     ],
     "language": "python",
     "metadata": {},
     "outputs": [
      {
       "metadata": {},
       "output_type": "pyout",
       "prompt_number": 141,
       "text": [
        "A[1, 0]*A[4, 0] + A[1, 1]*A[4, 1] + A[1, 2]*A[4, 2] + A[1, 3]*A[4, 3] + A[1, 4]*A[4, 4] + A[1, 5]*A[4, 5] + A[1, 6]*A[4, 6] + A[1, 7]*A[4, 7] + A[1, 8]*A[4, 8] + A[1, 9]*A[4, 9] + A[1, 10]*A[4, 10] + A[1, 11]*A[4, 11] + A[1, 12]*A[4, 12] + A[1, 13]*A[4, 13] + A[1, 14]*A[4, 14] + A[1, 15]*A[4, 15] + A[1, 16]*A[4, 16] + A[1, 17]*A[4, 17] + A[1, 18]*A[4, 18] + A[1, 19]*A[4, 19]"
       ]
      }
     ],
     "prompt_number": 141
    },
    {
     "cell_type": "code",
     "collapsed": false,
     "input": [
      "expr3 = expr2[1,4]"
     ],
     "language": "python",
     "metadata": {},
     "outputs": [],
     "prompt_number": 155
    },
    {
     "cell_type": "code",
     "collapsed": false,
     "input": [
      "expr3"
     ],
     "language": "python",
     "metadata": {},
     "outputs": [
      {
       "metadata": {},
       "output_type": "pyout",
       "prompt_number": 156,
       "text": [
        "A[1, 0]*A[4, 0] + A[1, 1]*A[4, 1] + A[1, 2]*A[4, 2] + A[1, 3]*A[4, 3] + A[1, 4]*A[4, 4] + A[1, 5]*A[4, 5] + A[1, 6]*A[4, 6] + A[1, 7]*A[4, 7] + A[1, 8]*A[4, 8] + A[1, 9]*A[4, 9] + A[1, 10]*A[4, 10] + A[1, 11]*A[4, 11] + A[1, 12]*A[4, 12] + A[1, 13]*A[4, 13] + A[1, 14]*A[4, 14] + A[1, 15]*A[4, 15] + A[1, 16]*A[4, 16] + A[1, 17]*A[4, 17] + A[1, 18]*A[4, 18] + A[1, 19]*A[4, 19]"
       ]
      }
     ],
     "prompt_number": 156
    },
    {
     "cell_type": "code",
     "collapsed": false,
     "input": [
      "A = sympy.Matrix([[a11,a12,a13],[a21,a22,a23],[a31,a32,a33]])"
     ],
     "language": "python",
     "metadata": {},
     "outputs": [],
     "prompt_number": 184
    },
    {
     "cell_type": "code",
     "collapsed": false,
     "input": [
      "B = A*A.transpose()"
     ],
     "language": "python",
     "metadata": {},
     "outputs": [],
     "prompt_number": 189
    },
    {
     "cell_type": "code",
     "collapsed": false,
     "input": [
      "B"
     ],
     "language": "python",
     "metadata": {},
     "outputs": [
      {
       "metadata": {},
       "output_type": "pyout",
       "prompt_number": 190,
       "text": [
        "Matrix([\n",
        "[   a11**2 + a12**2 + a13**2, a11*a21 + a12*a22 + a13*a23, a11*a31 + a12*a32 + a13*a33],\n",
        "[a11*a21 + a12*a22 + a13*a23,    a21**2 + a22**2 + a23**2, a21*a31 + a22*a32 + a23*a33],\n",
        "[a11*a31 + a12*a32 + a13*a33, a21*a31 + a22*a32 + a23*a33,    a31**2 + a32**2 + a33**2]])"
       ]
      }
     ],
     "prompt_number": 190
    },
    {
     "cell_type": "code",
     "collapsed": false,
     "input": [
      "sympy.pprint(B)"
     ],
     "language": "python",
     "metadata": {},
     "outputs": [
      {
       "output_type": "stream",
       "stream": "stdout",
       "text": [
        "\u23a1       2      2      2                                                       \n",
        "\u23a2    a\u2081\u2081  + a\u2081\u2082  + a\u2081\u2083        a\u2081\u2081\u22c5a\u2082\u2081 + a\u2081\u2082\u22c5a\u2082\u2082 + a\u2081\u2083\u22c5a\u2082\u2083  a\u2081\u2081\u22c5a\u2083\u2081 + a\u2081\u2082\u22c5a\u2083\u2082 +\n",
        "\u23a2                                                                             \n",
        "\u23a2                                    2      2      2                          \n",
        "\u23a2a\u2081\u2081\u22c5a\u2082\u2081 + a\u2081\u2082\u22c5a\u2082\u2082 + a\u2081\u2083\u22c5a\u2082\u2083      a\u2082\u2081  + a\u2082\u2082  + a\u2082\u2083        a\u2082\u2081\u22c5a\u2083\u2081 + a\u2082\u2082\u22c5a\u2083\u2082 +\n",
        "\u23a2                                                                             \n",
        "\u23a2                                                                 2      2    \n",
        "\u23a3a\u2081\u2081\u22c5a\u2083\u2081 + a\u2081\u2082\u22c5a\u2083\u2082 + a\u2081\u2083\u22c5a\u2083\u2083  a\u2082\u2081\u22c5a\u2083\u2081 + a\u2082\u2082\u22c5a\u2083\u2082 + a\u2082\u2083\u22c5a\u2083\u2083      a\u2083\u2081  + a\u2083\u2082  + a\n",
        "\n",
        "        \u23a4\n",
        " a\u2081\u2083\u22c5a\u2083\u2083\u23a5\n",
        "        \u23a5\n",
        "        \u23a5\n",
        " a\u2082\u2083\u22c5a\u2083\u2083\u23a5\n",
        "        \u23a5\n",
        "  2     \u23a5\n",
        "\u2083\u2083      \u23a6\n"
       ]
      }
     ],
     "prompt_number": 191
    },
    {
     "cell_type": "code",
     "collapsed": false,
     "input": [
      "sympy.count_ops([[B[i,j] for i in range(3)] for j in range(3)],visual=True)"
     ],
     "language": "python",
     "metadata": {},
     "outputs": [
      {
       "metadata": {},
       "output_type": "pyout",
       "prompt_number": 215,
       "text": [
        "18*ADD + 18*MUL + 9*POW"
       ]
      }
     ],
     "prompt_number": 215
    },
    {
     "cell_type": "code",
     "collapsed": false,
     "input": [
      "sympy.count_ops([[B[i,j] for i in range(3)] for j in range(3)])"
     ],
     "language": "python",
     "metadata": {},
     "outputs": [
      {
       "metadata": {},
       "output_type": "pyout",
       "prompt_number": 220,
       "text": [
        "45"
       ]
      }
     ],
     "prompt_number": 220
    },
    {
     "cell_type": "code",
     "collapsed": false,
     "input": [
      "3*3*2"
     ],
     "language": "python",
     "metadata": {},
     "outputs": [
      {
       "metadata": {},
       "output_type": "pyout",
       "prompt_number": 217,
       "text": [
        "18"
       ]
      }
     ],
     "prompt_number": 217
    },
    {
     "cell_type": "code",
     "collapsed": false,
     "input": [
      "3*3*3"
     ],
     "language": "python",
     "metadata": {},
     "outputs": [
      {
       "metadata": {},
       "output_type": "pyout",
       "prompt_number": 218,
       "text": [
        "27"
       ]
      }
     ],
     "prompt_number": 218
    },
    {
     "cell_type": "code",
     "collapsed": false,
     "input": [
      "2*3*3*3-3*3"
     ],
     "language": "python",
     "metadata": {},
     "outputs": [
      {
       "metadata": {},
       "output_type": "pyout",
       "prompt_number": 219,
       "text": [
        "45"
       ]
      }
     ],
     "prompt_number": 219
    },
    {
     "cell_type": "code",
     "collapsed": false,
     "input": [
      "a = sympy.Matrix([1,2,3,4,5,6,7,8,9,10])"
     ],
     "language": "python",
     "metadata": {},
     "outputs": [],
     "prompt_number": 226
    },
    {
     "cell_type": "code",
     "collapsed": false,
     "input": [
      "sympy.pprint(a)"
     ],
     "language": "python",
     "metadata": {},
     "outputs": [
      {
       "output_type": "stream",
       "stream": "stdout",
       "text": [
        "\u23a11 \u23a4\n",
        "\u23a2  \u23a5\n",
        "\u23a22 \u23a5\n",
        "\u23a2  \u23a5\n",
        "\u23a23 \u23a5\n",
        "\u23a2  \u23a5\n",
        "\u23a24 \u23a5\n",
        "\u23a2  \u23a5\n",
        "\u23a25 \u23a5\n",
        "\u23a2  \u23a5\n",
        "\u23a26 \u23a5\n",
        "\u23a2  \u23a5\n",
        "\u23a27 \u23a5\n",
        "\u23a2  \u23a5\n",
        "\u23a28 \u23a5\n",
        "\u23a2  \u23a5\n",
        "\u23a29 \u23a5\n",
        "\u23a2  \u23a5\n",
        "\u23a310\u23a6\n"
       ]
      }
     ],
     "prompt_number": 227
    },
    {
     "cell_type": "code",
     "collapsed": false,
     "input": [
      "a*a.transpose()"
     ],
     "language": "python",
     "metadata": {},
     "outputs": [
      {
       "metadata": {},
       "output_type": "pyout",
       "prompt_number": 228,
       "text": [
        "Matrix([\n",
        "[ 1,  2,  3,  4,  5,  6,  7,  8,  9,  10],\n",
        "[ 2,  4,  6,  8, 10, 12, 14, 16, 18,  20],\n",
        "[ 3,  6,  9, 12, 15, 18, 21, 24, 27,  30],\n",
        "[ 4,  8, 12, 16, 20, 24, 28, 32, 36,  40],\n",
        "[ 5, 10, 15, 20, 25, 30, 35, 40, 45,  50],\n",
        "[ 6, 12, 18, 24, 30, 36, 42, 48, 54,  60],\n",
        "[ 7, 14, 21, 28, 35, 42, 49, 56, 63,  70],\n",
        "[ 8, 16, 24, 32, 40, 48, 56, 64, 72,  80],\n",
        "[ 9, 18, 27, 36, 45, 54, 63, 72, 81,  90],\n",
        "[10, 20, 30, 40, 50, 60, 70, 80, 90, 100]])"
       ]
      }
     ],
     "prompt_number": 228
    },
    {
     "cell_type": "code",
     "collapsed": false,
     "input": [],
     "language": "python",
     "metadata": {},
     "outputs": []
    }
   ],
   "metadata": {}
  }
 ]
}