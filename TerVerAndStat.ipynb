{
 "metadata": {
  "name": "",
  "signature": "sha256:ec30bb39287c04833810a80be42d65881bbd03f437f0c099d955e7c9416345c7"
 },
 "nbformat": 3,
 "nbformat_minor": 0,
 "worksheets": [
  {
   "cells": [
    {
     "cell_type": "code",
     "collapsed": false,
     "input": [
      "import sympy\n",
      "import matplotlib"
     ],
     "language": "python",
     "metadata": {},
     "outputs": [],
     "prompt_number": 21
    },
    {
     "cell_type": "heading",
     "level": 1,
     "metadata": {},
     "source": [
      "\u0420\u0430\u0441\u043f\u0440\u0435\u0434\u0435\u043b\u0435\u043d\u0438\u0435 \u043f\u043e \u0437\u0430\u043a\u043e\u043d\u0443 \u041a\u043e\u0448\u0438"
     ]
    },
    {
     "cell_type": "code",
     "collapsed": false,
     "input": [
      "sympy.init_printing()"
     ],
     "language": "python",
     "metadata": {},
     "outputs": [],
     "prompt_number": 60
    },
    {
     "cell_type": "code",
     "collapsed": false,
     "input": [
      "a, b, x = sympy.var('a, b, x')"
     ],
     "language": "python",
     "metadata": {},
     "outputs": [],
     "prompt_number": 61
    },
    {
     "cell_type": "heading",
     "level": 2,
     "metadata": {},
     "source": [
      "\u041f\u043b\u043e\u0442\u043d\u043e\u0441\u0442\u044c \u0432\u0435\u0440\u043e\u044f\u0442\u043d\u043e\u0441\u0442\u0438"
     ]
    },
    {
     "cell_type": "heading",
     "level": 3,
     "metadata": {},
     "source": [
      "\u0424\u043e\u0440\u043c\u0443\u043b\u0430 \u043f\u043b\u043e\u0442\u043d\u043e\u0441\u0442\u0438 \u0432\u0435\u0440\u043e\u044f\u0442\u043d\u043e\u0441\u0442\u0438"
     ]
    },
    {
     "cell_type": "code",
     "collapsed": false,
     "input": [
      "f = 1/sympy.pi * b / (b**2 + (x-a)**2); f"
     ],
     "language": "python",
     "metadata": {},
     "outputs": [
      {
       "latex": [
        "$$\\frac{b}{\\pi \\left(b^{2} + \\left(- a + x\\right)^{2}\\right)}$$"
       ],
       "metadata": {},
       "output_type": "pyout",
       "png": "[encoded data removed]",
       "prompt_number": 63,
       "text": [
        "        b         \n",
        "\u2500\u2500\u2500\u2500\u2500\u2500\u2500\u2500\u2500\u2500\u2500\u2500\u2500\u2500\u2500\u2500\u2500\u2500\n",
        "  \u239b 2           2\u239e\n",
        "\u03c0\u22c5\u239db  + (-a + x) \u23a0"
       ]
      }
     ],
     "prompt_number": 63
    },
    {
     "cell_type": "code",
     "collapsed": false,
     "input": [
      "%matplotlib inline"
     ],
     "language": "python",
     "metadata": {},
     "outputs": [],
     "prompt_number": 64
    },
    {
     "cell_type": "heading",
     "level": 3,
     "metadata": {},
     "source": [
      "\u0413\u0440\u0430\u0444\u0438\u043a \u043f\u043b\u043e\u0442\u043d\u043e\u0441\u0442\u0438 \u0432\u0435\u0440\u043e\u044f\u0442\u043d\u043e\u0441\u0442\u0438"
     ]
    },
    {
     "cell_type": "code",
     "collapsed": false,
     "input": [
      "sympy.plot(f.subs({a: 0, b: 1}))"
     ],
     "language": "python",
     "metadata": {},
     "outputs": [
      {
       "metadata": {},
       "output_type": "display_data",
       "png": "[encoded data removed]",
       "text": [
        "<matplotlib.figure.Figure at 0xaa7663ec>"
       ]
      },
      {
       "metadata": {},
       "output_type": "pyout",
       "prompt_number": 65,
       "text": [
        "<sympy.plotting.plot.Plot at 0xaa73996c>"
       ]
      }
     ],
     "prompt_number": 65
    },
    {
     "cell_type": "heading",
     "level": 2,
     "metadata": {},
     "source": [
      "\u0424\u0443\u043d\u043a\u0446\u0438\u044f \u0440\u0430\u0441\u043f\u0440\u0435\u0434\u0435\u043b\u0435\u043d\u0438\u044f \u0432\u0435\u0440\u043e\u044f\u0442\u043d\u043e\u0441\u0442\u0438"
     ]
    },
    {
     "cell_type": "heading",
     "level": 3,
     "metadata": {},
     "source": [
      "\u0424\u043e\u0440\u043c\u0443\u043b\u0430 \u0444\u0443\u043d\u043a\u0446\u0438\u0438 \u0440\u0430\u0441\u043f\u0440\u0435\u0434\u0435\u043b\u0435\u043d\u0438\u044f"
     ]
    },
    {
     "cell_type": "markdown",
     "metadata": {},
     "source": [
      "<p> $F(x) = P(-\\infty<X<x) = \\int_{-\\infty}^{x} f(u) du $ \n",
      "\n",
      "<p> $f(x) = F^{'}(x)$ \n",
      "\n",
      "\n",
      "<p> \u0422\u0430\u043a\u0438\u043c \u043e\u0431\u0440\u0430\u0437\u043e\u043c, \u043f\u043b\u043e\u0442\u043d\u043e\u0441\u0442\u044c \u0441\u043a\u0430\u043b\u044f\u0440\u043d\u043e\u0439 \u0441\u043b\u0443\u0447\u0430\u0439\u043d\u043e\u0439 \u0432\u0435\u043b\u0438\u0447\u0438\u043d\u044b \u0435\u0441\u0442\u044c \u043f\u0440\u043e\u0438\u0437\u0432\u043e\u0434\u043d\u0430\u044f \u0444\u0443\u043d\u043a\u0446\u0438\u0438 \u0440\u0430\u0441\u043f\u0440\u0435\u0434\u0435\u043b\u0435\u043b\u0435\u043d\u0438\u044f"
     ]
    },
    {
     "cell_type": "code",
     "collapsed": false,
     "input": [
      "F = sympy.integrate(f, x); sympy.simplify(F)"
     ],
     "language": "python",
     "metadata": {},
     "outputs": [
      {
       "latex": [
        "$$\\frac{b \\sqrt{- \\frac{1}{b^{2}}}}{2 \\pi} \\left(- \\log{\\left (- a - b^{2} \\sqrt{- \\frac{1}{b^{2}}} + x \\right )} + \\log{\\left (- a + b^{2} \\sqrt{- \\frac{1}{b^{2}}} + x \\right )}\\right)$$"
       ],
       "metadata": {},
       "output_type": "pyout",
       "png": "[encoded data removed]",
       "prompt_number": 66,
       "text": [
        "       _____ \u239b     \u239b             _____    \u239e      \u239b             _____    \u239e\u239e\n",
        "      \u2571 -1   \u239c     \u239c      2     \u2571 -1      \u239f      \u239c      2     \u2571 -1      \u239f\u239f\n",
        "b\u22c5   \u2571  \u2500\u2500\u2500 \u22c5\u239c- log\u239c-a - b \u22c5   \u2571  \u2500\u2500\u2500  + x\u239f + log\u239c-a + b \u22c5   \u2571  \u2500\u2500\u2500  + x\u239f\u239f\n",
        "    \u2571     2  \u239c     \u239c          \u2571     2     \u239f      \u239c          \u2571     2     \u239f\u239f\n",
        "  \u2572\u2571     b   \u239d     \u239d        \u2572\u2571     b      \u23a0      \u239d        \u2572\u2571     b      \u23a0\u23a0\n",
        "\u2500\u2500\u2500\u2500\u2500\u2500\u2500\u2500\u2500\u2500\u2500\u2500\u2500\u2500\u2500\u2500\u2500\u2500\u2500\u2500\u2500\u2500\u2500\u2500\u2500\u2500\u2500\u2500\u2500\u2500\u2500\u2500\u2500\u2500\u2500\u2500\u2500\u2500\u2500\u2500\u2500\u2500\u2500\u2500\u2500\u2500\u2500\u2500\u2500\u2500\u2500\u2500\u2500\u2500\u2500\u2500\u2500\u2500\u2500\u2500\u2500\u2500\u2500\u2500\u2500\u2500\u2500\u2500\u2500\u2500\u2500\u2500\u2500\u2500\n",
        "                                   2\u22c5\u03c0                                    "
       ]
      }
     ],
     "prompt_number": 66
    },
    {
     "cell_type": "heading",
     "level": 3,
     "metadata": {},
     "source": [
      "\u0413\u0440\u0430\u0444\u0438\u043a \u0444\u0443\u043d\u043a\u0446\u0438\u0438 \u0440\u0430\u0441\u043f\u0440\u0435\u0434\u0435\u043b\u0435\u043d\u0438\u044f"
     ]
    },
    {
     "cell_type": "code",
     "collapsed": false,
     "input": [
      "sympy.plot(F.subs({a: 0, b: 1}))"
     ],
     "language": "python",
     "metadata": {},
     "outputs": [
      {
       "metadata": {},
       "output_type": "display_data",
       "png": "[encoded data removed]",
       "text": [
        "<matplotlib.figure.Figure at 0xaa9b878c>"
       ]
      },
      {
       "metadata": {},
       "output_type": "pyout",
       "prompt_number": 36,
       "text": [
        "<sympy.plotting.plot.Plot at 0xb1a76fcc>"
       ]
      }
     ],
     "prompt_number": 36
    },
    {
     "cell_type": "heading",
     "level": 2,
     "metadata": {},
     "source": [
      "\u041c\u0430\u0442\u0435\u043c\u0430\u0442\u0438\u0447\u0435\u0441\u043a\u043e\u0435 \u043e\u0436\u0438\u0434\u0430\u043d\u0438\u0435"
     ]
    },
    {
     "cell_type": "markdown",
     "metadata": {},
     "source": [
      "<p> $M \\phi(X) = \\int_{\\infty}^{\\infty} \\phi(x) f(x) dx $"
     ]
    },
    {
     "cell_type": "code",
     "collapsed": false,
     "input": [
      "f"
     ],
     "language": "python",
     "metadata": {},
     "outputs": [
      {
       "latex": [
        "$$\\frac{b}{\\pi \\left(b^{2} + \\left(- a + x\\right)^{2}\\right)}$$"
       ],
       "metadata": {},
       "output_type": "pyout",
       "png": "[encoded data removed]",
       "prompt_number": 67,
       "text": [
        "        b         \n",
        "\u2500\u2500\u2500\u2500\u2500\u2500\u2500\u2500\u2500\u2500\u2500\u2500\u2500\u2500\u2500\u2500\u2500\u2500\n",
        "  \u239b 2           2\u239e\n",
        "\u03c0\u22c5\u239db  + (-a + x) \u23a0"
       ]
      }
     ],
     "prompt_number": 67
    },
    {
     "cell_type": "code",
     "collapsed": false,
     "input": [
      "sympy.simplify(sympy.integrate(x*f, x))"
     ],
     "language": "python",
     "metadata": {},
     "outputs": [
      {
       "latex": [
        "$$\\frac{1}{2 \\pi b} \\left(\\left(b^{2} - \\sqrt{- a^{2} b^{2}}\\right) \\log{\\left (\\frac{1}{a} \\left(- a^{2} + a x - \\sqrt{- a^{2} b^{2}}\\right) \\right )} + \\left(b^{2} + \\sqrt{- a^{2} b^{2}}\\right) \\log{\\left (\\frac{1}{a} \\left(- a^{2} + a x + \\sqrt{- a^{2} b^{2}}\\right) \\right )}\\right)$$"
       ],
       "metadata": {},
       "output_type": "pyout",
       "png": "[encoded data removed]",
       "prompt_number": 68,
       "text": [
        "                      \u239b                ________\u239e                         \u239b    \n",
        "\u239b        ________\u239e    \u239c   2           \u2571   2  2 \u239f   \u239b        ________\u239e    \u239c   2\n",
        "\u239c 2     \u2571   2  2 \u239f    \u239c- a  + a\u22c5x - \u2572\u2571  -a \u22c5b  \u239f   \u239c 2     \u2571   2  2 \u239f    \u239c- a \n",
        "\u239db  - \u2572\u2571  -a \u22c5b  \u23a0\u22c5log\u239c\u2500\u2500\u2500\u2500\u2500\u2500\u2500\u2500\u2500\u2500\u2500\u2500\u2500\u2500\u2500\u2500\u2500\u2500\u2500\u2500\u2500\u2500\u2500\u2500\u239f + \u239db  + \u2572\u2571  -a \u22c5b  \u23a0\u22c5log\u239c\u2500\u2500\u2500\u2500\n",
        "                      \u239d           a            \u23a0                         \u239d    \n",
        "\u2500\u2500\u2500\u2500\u2500\u2500\u2500\u2500\u2500\u2500\u2500\u2500\u2500\u2500\u2500\u2500\u2500\u2500\u2500\u2500\u2500\u2500\u2500\u2500\u2500\u2500\u2500\u2500\u2500\u2500\u2500\u2500\u2500\u2500\u2500\u2500\u2500\u2500\u2500\u2500\u2500\u2500\u2500\u2500\u2500\u2500\u2500\u2500\u2500\u2500\u2500\u2500\u2500\u2500\u2500\u2500\u2500\u2500\u2500\u2500\u2500\u2500\u2500\u2500\u2500\u2500\u2500\u2500\u2500\u2500\u2500\u2500\u2500\u2500\u2500\u2500\u2500\u2500\n",
        "                                               2\u22c5\u03c0\u22c5b                          \n",
        "\n",
        "            ________\u239e\n",
        "           \u2571   2  2 \u239f\n",
        " + a\u22c5x + \u2572\u2571  -a \u22c5b  \u239f\n",
        "\u2500\u2500\u2500\u2500\u2500\u2500\u2500\u2500\u2500\u2500\u2500\u2500\u2500\u2500\u2500\u2500\u2500\u2500\u2500\u2500\u239f\n",
        "       a            \u23a0\n",
        "\u2500\u2500\u2500\u2500\u2500\u2500\u2500\u2500\u2500\u2500\u2500\u2500\u2500\u2500\u2500\u2500\u2500\u2500\u2500\u2500\u2500\n",
        "                     "
       ]
      }
     ],
     "prompt_number": 68
    },
    {
     "cell_type": "code",
     "collapsed": false,
     "input": [
      "sympy.simplify(sympy.integrate(x*f, x).subs({b: 1}))"
     ],
     "language": "python",
     "metadata": {},
     "outputs": [
      {
       "latex": [
        "$$\\frac{1}{2 \\pi} \\left(- \\left(\\sqrt{- a^{2}} - 1\\right) \\log{\\left (\\frac{1}{a} \\left(- a^{2} + a x - \\sqrt{- a^{2}}\\right) \\right )} + \\left(\\sqrt{- a^{2}} + 1\\right) \\log{\\left (\\frac{1}{a} \\left(- a^{2} + a x + \\sqrt{- a^{2}}\\right) \\right )}\\right)$$"
       ],
       "metadata": {},
       "output_type": "pyout",
       "png": "[encoded data removed]",
       "prompt_number": 72,
       "text": [
        "                    \u239b                _____\u239e                     \u239b             \n",
        "  \u239b   _____    \u239e    \u239c   2           \u2571   2 \u239f   \u239b   _____    \u239e    \u239c   2         \n",
        "  \u239c  \u2571   2     \u239f    \u239c- a  + a\u22c5x - \u2572\u2571  -a  \u239f   \u239c  \u2571   2     \u239f    \u239c- a  + a\u22c5x + \n",
        "- \u239d\u2572\u2571  -a   - 1\u23a0\u22c5log\u239c\u2500\u2500\u2500\u2500\u2500\u2500\u2500\u2500\u2500\u2500\u2500\u2500\u2500\u2500\u2500\u2500\u2500\u2500\u2500\u2500\u2500\u239f + \u239d\u2572\u2571  -a   + 1\u23a0\u22c5log\u239c\u2500\u2500\u2500\u2500\u2500\u2500\u2500\u2500\u2500\u2500\u2500\u2500\u2500\n",
        "                    \u239d          a          \u23a0                     \u239d          a  \n",
        "\u2500\u2500\u2500\u2500\u2500\u2500\u2500\u2500\u2500\u2500\u2500\u2500\u2500\u2500\u2500\u2500\u2500\u2500\u2500\u2500\u2500\u2500\u2500\u2500\u2500\u2500\u2500\u2500\u2500\u2500\u2500\u2500\u2500\u2500\u2500\u2500\u2500\u2500\u2500\u2500\u2500\u2500\u2500\u2500\u2500\u2500\u2500\u2500\u2500\u2500\u2500\u2500\u2500\u2500\u2500\u2500\u2500\u2500\u2500\u2500\u2500\u2500\u2500\u2500\u2500\u2500\u2500\u2500\u2500\u2500\u2500\u2500\u2500\u2500\u2500\u2500\u2500\u2500\n",
        "                                          2\u22c5\u03c0                                 \n",
        "\n",
        "   _____\u239e\n",
        "  \u2571   2 \u239f\n",
        "\u2572\u2571  -a  \u239f\n",
        "\u2500\u2500\u2500\u2500\u2500\u2500\u2500\u2500\u239f\n",
        "        \u23a0\n",
        "\u2500\u2500\u2500\u2500\u2500\u2500\u2500\u2500\u2500\n",
        "         "
       ]
      }
     ],
     "prompt_number": 72
    },
    {
     "cell_type": "markdown",
     "metadata": {},
     "source": [
      "<p> \u041c\u0430\u0442\u0435\u043c\u0430\u0442\u0438\u0447\u0435\u0441\u043a\u043e\u0435 \u043e\u0436\u0438\u0434\u0430\u043d\u0438\u0435 \u0440\u0430\u0441\u0445\u043e\u0434\u0438\u0442\u0441\u044f"
     ]
    },
    {
     "cell_type": "code",
     "collapsed": false,
     "input": [],
     "language": "python",
     "metadata": {},
     "outputs": []
    }
   ],
   "metadata": {}
  }
 ]
}