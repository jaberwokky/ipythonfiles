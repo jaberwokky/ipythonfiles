{
 "metadata": {
  "name": "",
  "signature": "sha256:40099750f5f4ae05896516c1b78cb702f0ad62dd2eabd914203789628ea8dc86"
 },
 "nbformat": 3,
 "nbformat_minor": 0,
 "worksheets": [
  {
   "cells": [
    {
     "cell_type": "heading",
     "level": 1,
     "metadata": {},
     "source": [
      "\u0420\u0430\u0437\u043b\u043e\u0436\u0435\u043d\u0438\u0435 \u043f\u043e \u0431\u0430\u0437\u0438\u0441\u0443 \u0424\u0443\u0440\u044c\u0435-\u0433\u0430\u0440\u043c\u043e\u043d\u0438\u043a"
     ]
    },
    {
     "cell_type": "code",
     "collapsed": false,
     "input": [
      "import sympy"
     ],
     "language": "python",
     "metadata": {},
     "outputs": [],
     "prompt_number": 43
    },
    {
     "cell_type": "code",
     "collapsed": false,
     "input": [
      "%matplotlib inline"
     ],
     "language": "python",
     "metadata": {},
     "outputs": [],
     "prompt_number": 44
    },
    {
     "cell_type": "code",
     "collapsed": false,
     "input": [
      "sympy.init_printing()"
     ],
     "language": "python",
     "metadata": {},
     "outputs": [],
     "prompt_number": 45
    },
    {
     "cell_type": "code",
     "collapsed": false,
     "input": [
      "n, N, t = sympy.var('n, N, t')"
     ],
     "language": "python",
     "metadata": {},
     "outputs": [],
     "prompt_number": 4
    },
    {
     "cell_type": "code",
     "collapsed": false,
     "input": [
      "phi = sympy.Function('phi')(n, t); phi"
     ],
     "language": "python",
     "metadata": {},
     "outputs": [
      {
       "latex": [
        "$$\\phi{\\left (n,t \\right )}$$"
       ],
       "metadata": {},
       "output_type": "pyout",
       "png": "[encoded data removed]",
       "prompt_number": 5,
       "text": [
        "\u03c6(n, t)"
       ]
      }
     ],
     "prompt_number": 5
    },
    {
     "cell_type": "code",
     "collapsed": false,
     "input": [
      "i, j = sympy.var('i, j')"
     ],
     "language": "python",
     "metadata": {},
     "outputs": [],
     "prompt_number": 6
    },
    {
     "cell_type": "code",
     "collapsed": false,
     "input": [
      "c = sympy.Function('c')(n); c"
     ],
     "language": "python",
     "metadata": {},
     "outputs": [
      {
       "latex": [
        "$$c{\\left (n \\right )}$$"
       ],
       "metadata": {},
       "output_type": "pyout",
       "png": "[encoded data removed]",
       "prompt_number": 7,
       "text": [
        "c(n)"
       ]
      }
     ],
     "prompt_number": 7
    },
    {
     "cell_type": "code",
     "collapsed": false,
     "input": [
      "omega_1 = sympy.var('omega_1')"
     ],
     "language": "python",
     "metadata": {},
     "outputs": [],
     "prompt_number": 8
    },
    {
     "cell_type": "code",
     "collapsed": false,
     "input": [
      "P = sympy.Sum(c.subs(n, n)*phi.subs({n: n, t: t}), (n, 1, N)); P"
     ],
     "language": "python",
     "metadata": {},
     "outputs": [
      {
       "latex": [
        "$$\\sum_{n=1}^{N} c{\\left (n \\right )} \\phi{\\left (n,t \\right )}$$"
       ],
       "metadata": {},
       "output_type": "pyout",
       "png": "[encoded data removed]",
       "prompt_number": 9,
       "text": [
        "  N               \n",
        " ___              \n",
        " \u2572                \n",
        "  \u2572   c(n)\u22c5\u03c6(n, t)\n",
        "  \u2571               \n",
        " \u2571                \n",
        " \u203e\u203e\u203e              \n",
        "n = 1             "
       ]
      }
     ],
     "prompt_number": 9
    },
    {
     "cell_type": "code",
     "collapsed": false,
     "input": [
      "PP = P.subs({phi: sympy.exp(sympy.I*n*omega_1*t)}); PP"
     ],
     "language": "python",
     "metadata": {},
     "outputs": [
      {
       "latex": [
        "$$\\sum_{n=1}^{N} c{\\left (n \\right )} e^{i n \\omega_{1} t}$$"
       ],
       "metadata": {},
       "output_type": "pyout",
       "png": "[encoded data removed]",
       "prompt_number": 10,
       "text": [
        "  N                 \n",
        " ___                \n",
        " \u2572                  \n",
        "  \u2572         \u2148\u22c5n\u22c5\u03c9\u2081\u22c5t\n",
        "  \u2571   c(n)\u22c5\u212f        \n",
        " \u2571                  \n",
        " \u203e\u203e\u203e                \n",
        "n = 1               "
       ]
      }
     ],
     "prompt_number": 10
    },
    {
     "cell_type": "code",
     "collapsed": false,
     "input": [
      "t = sympy.var('t')"
     ],
     "language": "python",
     "metadata": {},
     "outputs": [],
     "prompt_number": 11
    },
    {
     "cell_type": "code",
     "collapsed": false,
     "input": [
      "s = sympy.Function('s')(t); s"
     ],
     "language": "python",
     "metadata": {},
     "outputs": [
      {
       "latex": [
        "$$s{\\left (t \\right )}$$"
       ],
       "metadata": {},
       "output_type": "pyout",
       "png": "[encoded data removed]",
       "prompt_number": 12,
       "text": [
        "s(t)"
       ]
      }
     ],
     "prompt_number": 12
    },
    {
     "cell_type": "code",
     "collapsed": false,
     "input": [
      "T = sympy.var('T')"
     ],
     "language": "python",
     "metadata": {},
     "outputs": [],
     "prompt_number": 13
    },
    {
     "cell_type": "code",
     "collapsed": false,
     "input": [
      "cc = 1/T * sympy.integrate(s.subs(t, t) * sympy.exp(-sympy.I*n*omega_1*t), (t, -T/2, T/2)); cc"
     ],
     "language": "python",
     "metadata": {},
     "outputs": [
      {
       "latex": [
        "$$\\frac{1}{T} \\int_{- \\frac{T}{2}}^{\\frac{T}{2}} s{\\left (t \\right )} e^{- i n \\omega_{1} t}\\, dt$$"
       ],
       "metadata": {},
       "output_type": "pyout",
       "png": "[encoded data removed]",
       "prompt_number": 14,
       "text": [
        " T                    \n",
        " \u2500                    \n",
        " 2                    \n",
        " \u2320                    \n",
        " \u23ae        -\u2148\u22c5n\u22c5\u03c9\u2081\u22c5t   \n",
        " \u23ae  s(t)\u22c5\u212f          dt\n",
        " \u2321                    \n",
        "-T                    \n",
        "\u2500\u2500\u2500                   \n",
        " 2                    \n",
        "\u2500\u2500\u2500\u2500\u2500\u2500\u2500\u2500\u2500\u2500\u2500\u2500\u2500\u2500\u2500\u2500\u2500\u2500\u2500\u2500\u2500\u2500\n",
        "          T           "
       ]
      }
     ],
     "prompt_number": 14
    },
    {
     "cell_type": "code",
     "collapsed": false,
     "input": [
      "omega, theta = sympy.var('omega, theta')"
     ],
     "language": "python",
     "metadata": {},
     "outputs": [],
     "prompt_number": 15
    },
    {
     "cell_type": "code",
     "collapsed": false,
     "input": [
      "A = sympy.Function('A')(t); A"
     ],
     "language": "python",
     "metadata": {},
     "outputs": [
      {
       "latex": [
        "$$A{\\left (t \\right )}$$"
       ],
       "metadata": {},
       "output_type": "pyout",
       "png": "[encoded data removed]",
       "prompt_number": 16,
       "text": [
        "A(t)"
       ]
      }
     ],
     "prompt_number": 16
    },
    {
     "cell_type": "code",
     "collapsed": false,
     "input": [
      "PPP = cc.subs({s: A*sympy.sin(t*omega + theta)}); PPP"
     ],
     "language": "python",
     "metadata": {},
     "outputs": [
      {
       "latex": [
        "$$\\frac{1}{T} \\int_{- \\frac{T}{2}}^{\\frac{T}{2}} A{\\left (t \\right )} e^{- i n \\omega_{1} t} \\sin{\\left (\\omega t + \\theta \\right )}\\, dt$$"
       ],
       "metadata": {},
       "output_type": "pyout",
       "png": "[encoded data removed]",
       "prompt_number": 17,
       "text": [
        " T                                 \n",
        " \u2500                                 \n",
        " 2                                 \n",
        " \u2320                                 \n",
        " \u23ae        -\u2148\u22c5n\u22c5\u03c9\u2081\u22c5t                \n",
        " \u23ae  A(t)\u22c5\u212f         \u22c5sin(\u03c9\u22c5t + \u03b8) dt\n",
        " \u2321                                 \n",
        "-T                                 \n",
        "\u2500\u2500\u2500                                \n",
        " 2                                 \n",
        "\u2500\u2500\u2500\u2500\u2500\u2500\u2500\u2500\u2500\u2500\u2500\u2500\u2500\u2500\u2500\u2500\u2500\u2500\u2500\u2500\u2500\u2500\u2500\u2500\u2500\u2500\u2500\u2500\u2500\u2500\u2500\u2500\u2500\u2500\u2500\n",
        "                 T                 "
       ]
      }
     ],
     "prompt_number": 17
    },
    {
     "cell_type": "heading",
     "level": 1,
     "metadata": {},
     "source": [
      "\u0420\u0430\u0437\u043b\u043e\u0436\u0435\u043d\u0438\u0435 \u043f\u043e \u0431\u0430\u0437\u0438\u0441\u0443 \u0432\u0435\u0439\u0432\u043b\u0435\u0442\u043e\u0432"
     ]
    },
    {
     "cell_type": "code",
     "collapsed": false,
     "input": [
      "import sympy"
     ],
     "language": "python",
     "metadata": {},
     "outputs": [],
     "prompt_number": 116
    },
    {
     "cell_type": "code",
     "collapsed": false,
     "input": [
      "%matplotlib inline"
     ],
     "language": "python",
     "metadata": {},
     "outputs": [],
     "prompt_number": 117
    },
    {
     "cell_type": "code",
     "collapsed": false,
     "input": [
      "sympy.init_printing()"
     ],
     "language": "python",
     "metadata": {},
     "outputs": [],
     "prompt_number": 118
    },
    {
     "cell_type": "code",
     "collapsed": false,
     "input": [
      "a, b, t = sympy.var('a, b, t', real = True)"
     ],
     "language": "python",
     "metadata": {},
     "outputs": [],
     "prompt_number": 119
    },
    {
     "cell_type": "code",
     "collapsed": false,
     "input": [
      "Psi = sympy.Function('Psi')(a, b, t); Psi"
     ],
     "language": "python",
     "metadata": {},
     "outputs": [
      {
       "latex": [
        "$$\\Psi{\\left (a,b,t \\right )}$$"
       ],
       "metadata": {},
       "output_type": "pyout",
       "png": "[encoded data removed]",
       "prompt_number": 120,
       "text": [
        "\u03a8(a, b, t)"
       ]
      }
     ],
     "prompt_number": 120
    },
    {
     "cell_type": "code",
     "collapsed": false,
     "input": [
      "T = sympy.var('T', real = True)"
     ],
     "language": "python",
     "metadata": {},
     "outputs": [],
     "prompt_number": 121
    },
    {
     "cell_type": "code",
     "collapsed": false,
     "input": [
      "s = sympy.Function('s')(t); s"
     ],
     "language": "python",
     "metadata": {},
     "outputs": [
      {
       "latex": [
        "$$s{\\left (t \\right )}$$"
       ],
       "metadata": {},
       "output_type": "pyout",
       "png": "[encoded data removed]",
       "prompt_number": 122,
       "text": [
        "s(t)"
       ]
      }
     ],
     "prompt_number": 122
    },
    {
     "cell_type": "code",
     "collapsed": false,
     "input": [
      "#cc = 1/T * sympy.integrate(s.subs(t,t) * Psi.subs({a: a, b: b, t: t}), (t, -T/2, T/2)); cc"
     ],
     "language": "python",
     "metadata": {},
     "outputs": [],
     "prompt_number": 123
    },
    {
     "cell_type": "code",
     "collapsed": false,
     "input": [
      "cc = sympy.integrate(s.subs(t,t) * Psi.subs({a: a, b: b, t: t}), (t, -sympy.oo, sympy.oo)); cc"
     ],
     "language": "python",
     "metadata": {},
     "outputs": [
      {
       "latex": [
        "$$\\int_{-\\infty}^{\\infty} \\Psi{\\left (a,b,t \\right )} s{\\left (t \\right )}\\, dt$$"
       ],
       "metadata": {},
       "output_type": "pyout",
       "png": "[encoded data removed]",
       "prompt_number": 124,
       "text": [
        "\u221e                    \n",
        "\u2320                    \n",
        "\u23ae  \u03a8(a, b, t)\u22c5s(t) dt\n",
        "\u2321                    \n",
        "-\u221e                   "
       ]
      }
     ],
     "prompt_number": 124
    },
    {
     "cell_type": "code",
     "collapsed": false,
     "input": [
      "psii = sympy.Lambda(t, sympy.exp(-sympy.Abs(t)**2/2.0) - 0.5 * sympy.exp(-sympy.Abs(t)**2/8.0)); psii"
     ],
     "language": "python",
     "metadata": {},
     "outputs": [
      {
       "latex": [
        "$$\\Lambda {\\left (t, e^{- 0.5 t^{2}} - 0.5 e^{- 0.125 t^{2}} \\right )}$$"
       ],
       "metadata": {},
       "output_type": "pyout",
       "png": "[encoded data removed]",
       "prompt_number": 125,
       "text": [
        "           2                2\n",
        "     -0.5\u22c5t         -0.125\u22c5t \n",
        "t \u21a6 \u212f        - 0.5\u22c5\u212f         "
       ]
      }
     ],
     "prompt_number": 125
    },
    {
     "cell_type": "code",
     "collapsed": false,
     "input": [
      "x = sympy.var('x', real = True)"
     ],
     "language": "python",
     "metadata": {},
     "outputs": [],
     "prompt_number": 126
    },
    {
     "cell_type": "code",
     "collapsed": false,
     "input": [
      "psii = sympy.Piecewise( (0, x < 0), (1, x < 1/2), (-1, x < 1), (0, True) ); psii"
     ],
     "language": "python",
     "metadata": {},
     "outputs": [
      {
       "latex": [
        "$$\\begin{cases} 0 & \\text{for}\\: x < 0 \\\\1 & \\text{for}\\: x < 0.5 \\\\-1 & \\text{for}\\: x < 1 \\\\0 & \\text{otherwise} \\end{cases}$$"
       ],
       "metadata": {},
       "output_type": "pyout",
       "png": "[encoded data removed]",
       "prompt_number": 127,
       "text": [
        "\u23a70    for x < 0 \n",
        "\u23aa               \n",
        "\u23aa1   for x < 0.5\n",
        "\u23a8               \n",
        "\u23aa-1   for x < 1 \n",
        "\u23aa               \n",
        "\u23a90    otherwise "
       ]
      }
     ],
     "prompt_number": 127
    },
    {
     "cell_type": "code",
     "collapsed": false,
     "input": [
      "plt.plot([psii.subs(x,t) for t in map(lambda x: x/100.0, range(-200,200))])"
     ],
     "language": "python",
     "metadata": {},
     "outputs": [
      {
       "metadata": {},
       "output_type": "pyout",
       "prompt_number": 128,
       "text": [
        "[<matplotlib.lines.Line2D at 0x9d0b972c>]"
       ]
      },
      {
       "metadata": {},
       "output_type": "display_data",
       "png": "[encoded data removed]",
       "text": [
        "<matplotlib.figure.Figure at 0x9d15efec>"
       ]
      }
     ],
     "prompt_number": 128
    },
    {
     "cell_type": "code",
     "collapsed": false,
     "input": [
      "psiiab = sympy.Lambda((a, b, t), sympy.Abs(a)**-(1/2) * psii.subs(x,(t-b)/a)); psiiab"
     ],
     "language": "python",
     "metadata": {},
     "outputs": [
      {
       "latex": [
        "$$\\Lambda {\\left (\\begin{pmatrix}a, & b, & t\\end{pmatrix}, \\frac{1}{\\left\\lvert{a}\\right\\rvert^{0.5}} \\begin{cases} 0 & \\text{for}\\: \\frac{1}{a} \\left(- b + t\\right) < 0 \\\\1 & \\text{for}\\: \\frac{1}{a} \\left(- b + t\\right) < 0.5 \\\\-1 & \\text{for}\\: \\frac{1}{a} \\left(- b + t\\right) < 1 \\\\0 & \\text{otherwise} \\end{cases} \\right )}$$"
       ],
       "metadata": {},
       "output_type": "pyout",
       "png": "[encoded data removed]",
       "prompt_number": 129,
       "text": [
        "            \u239b\u23a7         -b + t     \u239e        \n",
        "            \u239c\u23aa0    for \u2500\u2500\u2500\u2500\u2500\u2500 < 0 \u239f        \n",
        "            \u239c\u23aa           a        \u239f        \n",
        "            \u239c\u23aa                    \u239f        \n",
        "            \u239c\u23aa        -b + t      \u239f        \n",
        "            \u239c\u23aa1   for \u2500\u2500\u2500\u2500\u2500\u2500 < 0.5\u239f    -0.5\n",
        "(a, b, t) \u21a6 \u239c\u23a8          a         \u239f\u22c5\u2502a\u2502    \n",
        "            \u239c\u23aa                    \u239f        \n",
        "            \u239c\u23aa         -b + t     \u239f        \n",
        "            \u239c\u23aa-1   for \u2500\u2500\u2500\u2500\u2500\u2500 < 1 \u239f        \n",
        "            \u239c\u23aa           a        \u239f        \n",
        "            \u239c\u23aa                    \u239f        \n",
        "            \u239d\u23a90      otherwise    \u23a0        "
       ]
      }
     ],
     "prompt_number": 129
    },
    {
     "cell_type": "code",
     "collapsed": false,
     "input": [
      "PPP = cc.subs({Psi: psiiab(a, b, t)}); PPP"
     ],
     "language": "python",
     "metadata": {},
     "outputs": [
      {
       "latex": [
        "$$\\int_{-\\infty}^{\\infty} \\begin{cases} 0 & \\text{for}\\: \\frac{1}{a} \\left(- b + t\\right) < 0 \\\\\\frac{1}{\\left\\lvert{a}\\right\\rvert^{0.5}} s{\\left (t \\right )} & \\text{for}\\: \\frac{1}{a} \\left(- b + t\\right) < 0.5 \\\\- \\frac{1}{\\left\\lvert{a}\\right\\rvert^{0.5}} s{\\left (t \\right )} & \\text{for}\\: \\frac{1}{a} \\left(- b + t\\right) < 1 \\\\0 & \\text{otherwise} \\end{cases}\\, dt$$"
       ],
       "metadata": {},
       "output_type": "pyout",
       "png": "[encoded data removed]",
       "prompt_number": 130,
       "text": [
        "\u221e                                     \n",
        "\u2320                                     \n",
        "\u23ae  \u23a7                    -b + t        \n",
        "\u23ae  \u23aa      0         for \u2500\u2500\u2500\u2500\u2500\u2500 < 0    \n",
        "\u23ae  \u23aa                      a           \n",
        "\u23ae  \u23aa                                  \n",
        "\u23ae  \u23aa        -0.5       -b + t         \n",
        "\u23ae  \u23aas(t)\u22c5\u2502a\u2502       for \u2500\u2500\u2500\u2500\u2500\u2500 < 0.5   \n",
        "\u23ae  \u23a8                     a          dt\n",
        "\u23ae  \u23aa                                  \n",
        "\u23ae  \u23aa         -0.5       -b + t        \n",
        "\u23ae  \u23aa-s(t)\u22c5\u2502a\u2502       for \u2500\u2500\u2500\u2500\u2500\u2500 < 1    \n",
        "\u23ae  \u23aa                      a           \n",
        "\u23ae  \u23aa                                  \n",
        "\u23ae  \u23a9      0           otherwise       \n",
        "\u2321                                     \n",
        "-\u221e                                    "
       ]
      }
     ],
     "prompt_number": 130
    },
    {
     "cell_type": "code",
     "collapsed": false,
     "input": [
      "alpha = sympy.var('alpha', real = True)"
     ],
     "language": "python",
     "metadata": {},
     "outputs": [],
     "prompt_number": 131
    },
    {
     "cell_type": "code",
     "collapsed": false,
     "input": [
      "T1, T2 = sympy.var('T1, T2', real = True)"
     ],
     "language": "python",
     "metadata": {},
     "outputs": [],
     "prompt_number": 132
    },
    {
     "cell_type": "code",
     "collapsed": false,
     "input": [
      "PPPP = PPP.subs({s: sympy.sin(2.0*sympy.pi*t/T1) + alpha*sympy.sin(2.0*sympy.pi*t/T2)}); PPPP"
     ],
     "language": "python",
     "metadata": {},
     "outputs": [
      {
       "latex": [
        "$$\\int_{-\\infty}^{\\infty} \\begin{cases} 0 & \\text{for}\\: \\frac{1}{a} \\left(- b + t\\right) < 0 \\\\\\frac{1}{\\left\\lvert{a}\\right\\rvert^{0.5}} \\left(\\alpha \\sin{\\left (\\frac{2.0 \\pi}{T_{2}} t \\right )} + \\sin{\\left (\\frac{2.0 \\pi}{T_{1}} t \\right )}\\right) & \\text{for}\\: \\frac{1}{a} \\left(- b + t\\right) < 0.5 \\\\- \\frac{1}{\\left\\lvert{a}\\right\\rvert^{0.5}} \\left(\\alpha \\sin{\\left (\\frac{2.0 \\pi}{T_{2}} t \\right )} + \\sin{\\left (\\frac{2.0 \\pi}{T_{1}} t \\right )}\\right) & \\text{for}\\: \\frac{1}{a} \\left(- b + t\\right) < 1 \\\\0 & \\text{otherwise} \\end{cases}\\, dt$$"
       ],
       "metadata": {},
       "output_type": "pyout",
       "png": "[encoded data removed]",
       "prompt_number": 133,
       "text": [
        "\u221e                                                                \n",
        "\u2320                                                                \n",
        "\u23ae  \u23a7                                               -b + t        \n",
        "\u23ae  \u23aa                   0                       for \u2500\u2500\u2500\u2500\u2500\u2500 < 0    \n",
        "\u23ae  \u23aa                                                 a           \n",
        "\u23ae  \u23aa                                                             \n",
        "\u23ae  \u23aa\u239b     \u239b2.0\u22c5\u03c0\u22c5t\u239e      \u239b2.0\u22c5\u03c0\u22c5t\u239e\u239e    -0.5       -b + t         \n",
        "\u23ae  \u23aa\u239c\u03b1\u22c5sin\u239c\u2500\u2500\u2500\u2500\u2500\u2500\u2500\u239f + sin\u239c\u2500\u2500\u2500\u2500\u2500\u2500\u2500\u239f\u239f\u22c5\u2502a\u2502       for \u2500\u2500\u2500\u2500\u2500\u2500 < 0.5   \n",
        "\u23ae  \u23a8\u239d     \u239d   T\u2082  \u23a0      \u239d   T\u2081  \u23a0\u23a0                 a          dt\n",
        "\u23ae  \u23aa                                                             \n",
        "\u23ae  \u23aa \u239b     \u239b2.0\u22c5\u03c0\u22c5t\u239e      \u239b2.0\u22c5\u03c0\u22c5t\u239e\u239e    -0.5       -b + t        \n",
        "\u23ae  \u23aa-\u239c\u03b1\u22c5sin\u239c\u2500\u2500\u2500\u2500\u2500\u2500\u2500\u239f + sin\u239c\u2500\u2500\u2500\u2500\u2500\u2500\u2500\u239f\u239f\u22c5\u2502a\u2502       for \u2500\u2500\u2500\u2500\u2500\u2500 < 1    \n",
        "\u23ae  \u23aa \u239d     \u239d   T\u2082  \u23a0      \u239d   T\u2081  \u23a0\u23a0                 a           \n",
        "\u23ae  \u23aa                                                             \n",
        "\u23ae  \u23a9                   0                         otherwise       \n",
        "\u2321                                                                \n",
        "-\u221e                                                               "
       ]
      }
     ],
     "prompt_number": 133
    },
    {
     "cell_type": "code",
     "collapsed": false,
     "input": [
      "Pp = PPPP.subs({alpha: 0.4, T1: 200.0, T2: 10.0}); Pp"
     ],
     "language": "python",
     "metadata": {},
     "outputs": [
      {
       "latex": [
        "$$\\int_{-\\infty}^{\\infty} \\begin{cases} 0 & \\text{for}\\: \\frac{1}{a} \\left(- b + t\\right) < 0 \\\\\\frac{1}{\\left\\lvert{a}\\right\\rvert^{0.5}} \\left(\\sin{\\left (0.01 \\pi t \\right )} + 0.4 \\sin{\\left (0.2 \\pi t \\right )}\\right) & \\text{for}\\: \\frac{1}{a} \\left(- b + t\\right) < 0.5 \\\\- \\frac{1}{\\left\\lvert{a}\\right\\rvert^{0.5}} \\left(\\sin{\\left (0.01 \\pi t \\right )} + 0.4 \\sin{\\left (0.2 \\pi t \\right )}\\right) & \\text{for}\\: \\frac{1}{a} \\left(- b + t\\right) < 1 \\\\0 & \\text{otherwise} \\end{cases}\\, dt$$"
       ],
       "metadata": {},
       "output_type": "pyout",
       "png": "[encoded data removed]",
       "prompt_number": 134,
       "text": [
        "\u221e                                                                   \n",
        "\u2320                                                                   \n",
        "\u23ae  \u23a7                                                  -b + t        \n",
        "\u23ae  \u23aa                     0                        for \u2500\u2500\u2500\u2500\u2500\u2500 < 0    \n",
        "\u23ae  \u23aa                                                    a           \n",
        "\u23ae  \u23aa                                                                \n",
        "\u23ae  \u23aa                                      -0.5       -b + t         \n",
        "\u23ae  \u23aa(sin(0.01\u22c5\u03c0\u22c5t) + 0.4\u22c5sin(0.2\u22c5\u03c0\u22c5t))\u22c5\u2502a\u2502       for \u2500\u2500\u2500\u2500\u2500\u2500 < 0.5   \n",
        "\u23ae  \u23a8                                                   a          dt\n",
        "\u23ae  \u23aa                                                                \n",
        "\u23ae  \u23aa                                       -0.5       -b + t        \n",
        "\u23ae  \u23aa-(sin(0.01\u22c5\u03c0\u22c5t) + 0.4\u22c5sin(0.2\u22c5\u03c0\u22c5t))\u22c5\u2502a\u2502       for \u2500\u2500\u2500\u2500\u2500\u2500 < 1    \n",
        "\u23ae  \u23aa                                                    a           \n",
        "\u23ae  \u23aa                                                                \n",
        "\u23ae  \u23a9                     0                          otherwise       \n",
        "\u2321                                                                   \n",
        "-\u221e                                                                  "
       ]
      }
     ],
     "prompt_number": 134
    },
    {
     "cell_type": "code",
     "collapsed": false,
     "input": [
      "j, k = sympy.var('j, k', real = True )"
     ],
     "language": "python",
     "metadata": {},
     "outputs": [],
     "prompt_number": 135
    },
    {
     "cell_type": "code",
     "collapsed": false,
     "input": [
      "tmp = Pp.subs({a: 1/(2**j), b: k/(2**j)}); tmp"
     ],
     "language": "python",
     "metadata": {},
     "outputs": [
      {
       "latex": [
        "$$\\int_{-\\infty}^{\\infty} \\begin{cases} 0 & \\text{for}\\: 2^{j} \\left(t - 2^{- j} k\\right) < 0 \\\\2^{0.5 j} \\left(\\sin{\\left (0.01 \\pi t \\right )} + 0.4 \\sin{\\left (0.2 \\pi t \\right )}\\right) & \\text{for}\\: 2^{j} \\left(t - 2^{- j} k\\right) < 0.5 \\\\- 2^{0.5 j} \\left(\\sin{\\left (0.01 \\pi t \\right )} + 0.4 \\sin{\\left (0.2 \\pi t \\right )}\\right) & \\text{for}\\: 2^{j} \\left(t - 2^{- j} k\\right) < 1 \\\\0 & \\text{otherwise} \\end{cases}\\, dt$$"
       ],
       "metadata": {},
       "output_type": "pyout",
       "png": "[encoded data removed]",
       "prompt_number": 215,
       "text": [
        "\u221e                                                                          \n",
        "\u2320                                                                          \n",
        "\u23ae  \u23a7                                                  j \u239b     -j  \u239e        \n",
        "\u23ae  \u23aa                    0                        for 2 \u22c5\u239dt - 2  \u22c5k\u23a0 < 0    \n",
        "\u23ae  \u23aa                                                                       \n",
        "\u23ae  \u23aa 0.5\u22c5j                                           j \u239b     -j  \u239e         \n",
        "\u23ae  \u23aa2     \u22c5(sin(0.01\u22c5\u03c0\u22c5t) + 0.4\u22c5sin(0.2\u22c5\u03c0\u22c5t))   for 2 \u22c5\u239dt - 2  \u22c5k\u23a0 < 0.5   \n",
        "\u23ae  \u23a8                                                                     dt\n",
        "\u23ae  \u23aa  0.5\u22c5j                                           j \u239b     -j  \u239e        \n",
        "\u23ae  \u23aa-2     \u22c5(sin(0.01\u22c5\u03c0\u22c5t) + 0.4\u22c5sin(0.2\u22c5\u03c0\u22c5t))   for 2 \u22c5\u239dt - 2  \u22c5k\u23a0 < 1    \n",
        "\u23ae  \u23aa                                                                       \n",
        "\u23ae  \u23aa                    0                              otherwise           \n",
        "\u23ae  \u23a9                                                                       \n",
        "\u2321                                                                          \n",
        "-\u221e                                                                         "
       ]
      }
     ],
     "prompt_number": 215
    },
    {
     "cell_type": "code",
     "collapsed": false,
     "input": [
      "k/(2**j) == k/2**j"
     ],
     "language": "python",
     "metadata": {},
     "outputs": [
      {
       "metadata": {},
       "output_type": "pyout",
       "prompt_number": 219,
       "text": [
        "True"
       ]
      }
     ],
     "prompt_number": 219
    },
    {
     "cell_type": "code",
     "collapsed": false,
     "input": [
      "tmp1 = tmp.subs({j: 4, k: 1})"
     ],
     "language": "python",
     "metadata": {},
     "outputs": [],
     "prompt_number": 138
    },
    {
     "cell_type": "code",
     "collapsed": false,
     "input": [
      "tmp1.n()"
     ],
     "language": "python",
     "metadata": {},
     "outputs": [
      {
       "latex": [
        "$$-0.001071$$"
       ],
       "metadata": {},
       "output_type": "pyout",
       "png": "[encoded data removed]",
       "prompt_number": 139,
       "text": [
        "-0.001071"
       ]
      }
     ],
     "prompt_number": 139
    },
    {
     "cell_type": "code",
     "collapsed": false,
     "input": [
      "import numpy"
     ],
     "language": "python",
     "metadata": {},
     "outputs": [],
     "prompt_number": 140
    },
    {
     "cell_type": "code",
     "collapsed": false,
     "input": [
      "answer = [[tmp.doit().subs({j: jj, k: kk}) for jj in range(-10,10)] for kk in range(-10,10)]"
     ],
     "language": "python",
     "metadata": {},
     "outputs": [],
     "prompt_number": 169
    },
    {
     "cell_type": "code",
     "collapsed": false,
     "input": [
      "len(answer)"
     ],
     "language": "python",
     "metadata": {},
     "outputs": [
      {
       "latex": [
        "$$20$$"
       ],
       "metadata": {},
       "output_type": "pyout",
       "png": "[encoded data removed]",
       "prompt_number": 170,
       "text": [
        "20"
       ]
      }
     ],
     "prompt_number": 170
    },
    {
     "cell_type": "code",
     "collapsed": false,
     "input": [
      "num_answer = [[answer[j][k].evalf() for j in range(len(answer))] for k in range(len(answer))]"
     ],
     "language": "python",
     "metadata": {},
     "outputs": [],
     "prompt_number": 173
    },
    {
     "cell_type": "code",
     "collapsed": false,
     "input": [
      "plt.pcolor(numpy.array(num_answer, dtype = numpy.float))"
     ],
     "language": "python",
     "metadata": {},
     "outputs": [
      {
       "metadata": {},
       "output_type": "pyout",
       "prompt_number": 174,
       "text": [
        "<matplotlib.collections.PolyCollection at 0x9070e20c>"
       ]
      },
      {
       "metadata": {},
       "output_type": "display_data",
       "png": "[encoded data removed]",
       "text": [
        "<matplotlib.figure.Figure at 0x92754b8c>"
       ]
      }
     ],
     "prompt_number": 174
    },
    {
     "cell_type": "code",
     "collapsed": false,
     "input": [
      "numpyinteg = lambda a, b, t: 1.0/numpy.sqrt(numpy.abs(a))*(numpy.exp(-0.5/(a*a)*(-b+t)*(-b+t)) - 0.5*numpy.exp(-0.125/(a*a)*(-b+t)*(-b+t))) * (numpy.sin(0.01 * numpy.pi * t) + 0.4*numpy.sin(0.2*numpy.pi*t))"
     ],
     "language": "python",
     "metadata": {},
     "outputs": [],
     "prompt_number": 221
    },
    {
     "cell_type": "code",
     "collapsed": false,
     "input": [
      "numpyintegsum = lambda a,b: numpy.sum([numpyinteg(a,b,t) for t in numpy.arange(-1000,1000,1)])"
     ],
     "language": "python",
     "metadata": {},
     "outputs": [],
     "prompt_number": 222
    },
    {
     "cell_type": "code",
     "collapsed": false,
     "input": [
      "coeffs = [[numpyintegsum(aa,bb) for aa in range(1,20)] for bb in range(1,500)]"
     ],
     "language": "python",
     "metadata": {},
     "outputs": [
      {
       "ename": "KeyboardInterrupt",
       "evalue": "",
       "output_type": "pyerr",
       "traceback": [
        "\u001b[1;31m---------------------------------------------------------------------------\u001b[0m\n\u001b[1;31mKeyboardInterrupt\u001b[0m                         Traceback (most recent call last)",
        "\u001b[1;32m<ipython-input-223-dc2b843a6c46>\u001b[0m in \u001b[0;36m<module>\u001b[1;34m()\u001b[0m\n\u001b[1;32m----> 1\u001b[1;33m \u001b[0mcoeffs\u001b[0m \u001b[1;33m=\u001b[0m \u001b[1;33m[\u001b[0m\u001b[1;33m[\u001b[0m\u001b[0mnumpyintegsum\u001b[0m\u001b[1;33m(\u001b[0m\u001b[0maa\u001b[0m\u001b[1;33m,\u001b[0m\u001b[0mbb\u001b[0m\u001b[1;33m)\u001b[0m \u001b[1;32mfor\u001b[0m \u001b[0maa\u001b[0m \u001b[1;32min\u001b[0m \u001b[0mrange\u001b[0m\u001b[1;33m(\u001b[0m\u001b[1;36m1\u001b[0m\u001b[1;33m,\u001b[0m\u001b[1;36m20\u001b[0m\u001b[1;33m)\u001b[0m\u001b[1;33m]\u001b[0m \u001b[1;32mfor\u001b[0m \u001b[0mbb\u001b[0m \u001b[1;32min\u001b[0m \u001b[0mrange\u001b[0m\u001b[1;33m(\u001b[0m\u001b[1;36m1\u001b[0m\u001b[1;33m,\u001b[0m\u001b[1;36m500\u001b[0m\u001b[1;33m)\u001b[0m\u001b[1;33m]\u001b[0m\u001b[1;33m\u001b[0m\u001b[0m\n\u001b[0m",
        "\u001b[1;32m<ipython-input-223-dc2b843a6c46>\u001b[0m in \u001b[0;36m<listcomp>\u001b[1;34m(.0)\u001b[0m\n\u001b[1;32m----> 1\u001b[1;33m \u001b[0mcoeffs\u001b[0m \u001b[1;33m=\u001b[0m \u001b[1;33m[\u001b[0m\u001b[1;33m[\u001b[0m\u001b[0mnumpyintegsum\u001b[0m\u001b[1;33m(\u001b[0m\u001b[0maa\u001b[0m\u001b[1;33m,\u001b[0m\u001b[0mbb\u001b[0m\u001b[1;33m)\u001b[0m \u001b[1;32mfor\u001b[0m \u001b[0maa\u001b[0m \u001b[1;32min\u001b[0m \u001b[0mrange\u001b[0m\u001b[1;33m(\u001b[0m\u001b[1;36m1\u001b[0m\u001b[1;33m,\u001b[0m\u001b[1;36m20\u001b[0m\u001b[1;33m)\u001b[0m\u001b[1;33m]\u001b[0m \u001b[1;32mfor\u001b[0m \u001b[0mbb\u001b[0m \u001b[1;32min\u001b[0m \u001b[0mrange\u001b[0m\u001b[1;33m(\u001b[0m\u001b[1;36m1\u001b[0m\u001b[1;33m,\u001b[0m\u001b[1;36m500\u001b[0m\u001b[1;33m)\u001b[0m\u001b[1;33m]\u001b[0m\u001b[1;33m\u001b[0m\u001b[0m\n\u001b[0m",
        "\u001b[1;32m<ipython-input-223-dc2b843a6c46>\u001b[0m in \u001b[0;36m<listcomp>\u001b[1;34m(.0)\u001b[0m\n\u001b[1;32m----> 1\u001b[1;33m \u001b[0mcoeffs\u001b[0m \u001b[1;33m=\u001b[0m \u001b[1;33m[\u001b[0m\u001b[1;33m[\u001b[0m\u001b[0mnumpyintegsum\u001b[0m\u001b[1;33m(\u001b[0m\u001b[0maa\u001b[0m\u001b[1;33m,\u001b[0m\u001b[0mbb\u001b[0m\u001b[1;33m)\u001b[0m \u001b[1;32mfor\u001b[0m \u001b[0maa\u001b[0m \u001b[1;32min\u001b[0m \u001b[0mrange\u001b[0m\u001b[1;33m(\u001b[0m\u001b[1;36m1\u001b[0m\u001b[1;33m,\u001b[0m\u001b[1;36m20\u001b[0m\u001b[1;33m)\u001b[0m\u001b[1;33m]\u001b[0m \u001b[1;32mfor\u001b[0m \u001b[0mbb\u001b[0m \u001b[1;32min\u001b[0m \u001b[0mrange\u001b[0m\u001b[1;33m(\u001b[0m\u001b[1;36m1\u001b[0m\u001b[1;33m,\u001b[0m\u001b[1;36m500\u001b[0m\u001b[1;33m)\u001b[0m\u001b[1;33m]\u001b[0m\u001b[1;33m\u001b[0m\u001b[0m\n\u001b[0m",
        "\u001b[1;32m<ipython-input-222-8588d1145be4>\u001b[0m in \u001b[0;36m<lambda>\u001b[1;34m(a, b)\u001b[0m\n\u001b[1;32m----> 1\u001b[1;33m \u001b[0mnumpyintegsum\u001b[0m \u001b[1;33m=\u001b[0m \u001b[1;32mlambda\u001b[0m \u001b[0ma\u001b[0m\u001b[1;33m,\u001b[0m\u001b[0mb\u001b[0m\u001b[1;33m:\u001b[0m \u001b[0mnumpy\u001b[0m\u001b[1;33m.\u001b[0m\u001b[0msum\u001b[0m\u001b[1;33m(\u001b[0m\u001b[1;33m[\u001b[0m\u001b[0mnumpyinteg\u001b[0m\u001b[1;33m(\u001b[0m\u001b[0ma\u001b[0m\u001b[1;33m,\u001b[0m\u001b[0mb\u001b[0m\u001b[1;33m,\u001b[0m\u001b[0mt\u001b[0m\u001b[1;33m)\u001b[0m \u001b[1;32mfor\u001b[0m \u001b[0mt\u001b[0m \u001b[1;32min\u001b[0m \u001b[0mnumpy\u001b[0m\u001b[1;33m.\u001b[0m\u001b[0marange\u001b[0m\u001b[1;33m(\u001b[0m\u001b[1;33m-\u001b[0m\u001b[1;36m1000\u001b[0m\u001b[1;33m,\u001b[0m\u001b[1;36m1000\u001b[0m\u001b[1;33m,\u001b[0m\u001b[1;36m1\u001b[0m\u001b[1;33m)\u001b[0m\u001b[1;33m]\u001b[0m\u001b[1;33m)\u001b[0m\u001b[1;33m\u001b[0m\u001b[0m\n\u001b[0m",
        "\u001b[1;32m<ipython-input-222-8588d1145be4>\u001b[0m in \u001b[0;36m<listcomp>\u001b[1;34m(.0)\u001b[0m\n\u001b[1;32m----> 1\u001b[1;33m \u001b[0mnumpyintegsum\u001b[0m \u001b[1;33m=\u001b[0m \u001b[1;32mlambda\u001b[0m \u001b[0ma\u001b[0m\u001b[1;33m,\u001b[0m\u001b[0mb\u001b[0m\u001b[1;33m:\u001b[0m \u001b[0mnumpy\u001b[0m\u001b[1;33m.\u001b[0m\u001b[0msum\u001b[0m\u001b[1;33m(\u001b[0m\u001b[1;33m[\u001b[0m\u001b[0mnumpyinteg\u001b[0m\u001b[1;33m(\u001b[0m\u001b[0ma\u001b[0m\u001b[1;33m,\u001b[0m\u001b[0mb\u001b[0m\u001b[1;33m,\u001b[0m\u001b[0mt\u001b[0m\u001b[1;33m)\u001b[0m \u001b[1;32mfor\u001b[0m \u001b[0mt\u001b[0m \u001b[1;32min\u001b[0m \u001b[0mnumpy\u001b[0m\u001b[1;33m.\u001b[0m\u001b[0marange\u001b[0m\u001b[1;33m(\u001b[0m\u001b[1;33m-\u001b[0m\u001b[1;36m1000\u001b[0m\u001b[1;33m,\u001b[0m\u001b[1;36m1000\u001b[0m\u001b[1;33m,\u001b[0m\u001b[1;36m1\u001b[0m\u001b[1;33m)\u001b[0m\u001b[1;33m]\u001b[0m\u001b[1;33m)\u001b[0m\u001b[1;33m\u001b[0m\u001b[0m\n\u001b[0m",
        "\u001b[1;32m<ipython-input-221-f6323bd0c9a0>\u001b[0m in \u001b[0;36m<lambda>\u001b[1;34m(a, b, t)\u001b[0m\n\u001b[1;32m----> 1\u001b[1;33m \u001b[0mnumpyinteg\u001b[0m \u001b[1;33m=\u001b[0m \u001b[1;32mlambda\u001b[0m \u001b[0ma\u001b[0m\u001b[1;33m,\u001b[0m \u001b[0mb\u001b[0m\u001b[1;33m,\u001b[0m \u001b[0mt\u001b[0m\u001b[1;33m:\u001b[0m \u001b[1;36m1.0\u001b[0m\u001b[1;33m/\u001b[0m\u001b[0mnumpy\u001b[0m\u001b[1;33m.\u001b[0m\u001b[0msqrt\u001b[0m\u001b[1;33m(\u001b[0m\u001b[0mnumpy\u001b[0m\u001b[1;33m.\u001b[0m\u001b[0mabs\u001b[0m\u001b[1;33m(\u001b[0m\u001b[0ma\u001b[0m\u001b[1;33m)\u001b[0m\u001b[1;33m)\u001b[0m\u001b[1;33m*\u001b[0m\u001b[1;33m(\u001b[0m\u001b[0mnumpy\u001b[0m\u001b[1;33m.\u001b[0m\u001b[0mexp\u001b[0m\u001b[1;33m(\u001b[0m\u001b[1;33m-\u001b[0m\u001b[1;36m0.5\u001b[0m\u001b[1;33m/\u001b[0m\u001b[1;33m(\u001b[0m\u001b[0ma\u001b[0m\u001b[1;33m*\u001b[0m\u001b[0ma\u001b[0m\u001b[1;33m)\u001b[0m\u001b[1;33m*\u001b[0m\u001b[1;33m(\u001b[0m\u001b[1;33m-\u001b[0m\u001b[0mb\u001b[0m\u001b[1;33m+\u001b[0m\u001b[0mt\u001b[0m\u001b[1;33m)\u001b[0m\u001b[1;33m*\u001b[0m\u001b[1;33m(\u001b[0m\u001b[1;33m-\u001b[0m\u001b[0mb\u001b[0m\u001b[1;33m+\u001b[0m\u001b[0mt\u001b[0m\u001b[1;33m)\u001b[0m\u001b[1;33m)\u001b[0m \u001b[1;33m-\u001b[0m \u001b[1;36m0.5\u001b[0m\u001b[1;33m*\u001b[0m\u001b[0mnumpy\u001b[0m\u001b[1;33m.\u001b[0m\u001b[0mexp\u001b[0m\u001b[1;33m(\u001b[0m\u001b[1;33m-\u001b[0m\u001b[1;36m0.125\u001b[0m\u001b[1;33m/\u001b[0m\u001b[1;33m(\u001b[0m\u001b[0ma\u001b[0m\u001b[1;33m*\u001b[0m\u001b[0ma\u001b[0m\u001b[1;33m)\u001b[0m\u001b[1;33m*\u001b[0m\u001b[1;33m(\u001b[0m\u001b[1;33m-\u001b[0m\u001b[0mb\u001b[0m\u001b[1;33m+\u001b[0m\u001b[0mt\u001b[0m\u001b[1;33m)\u001b[0m\u001b[1;33m*\u001b[0m\u001b[1;33m(\u001b[0m\u001b[1;33m-\u001b[0m\u001b[0mb\u001b[0m\u001b[1;33m+\u001b[0m\u001b[0mt\u001b[0m\u001b[1;33m)\u001b[0m\u001b[1;33m)\u001b[0m\u001b[1;33m)\u001b[0m \u001b[1;33m*\u001b[0m \u001b[1;33m(\u001b[0m\u001b[0mnumpy\u001b[0m\u001b[1;33m.\u001b[0m\u001b[0msin\u001b[0m\u001b[1;33m(\u001b[0m\u001b[1;36m0.01\u001b[0m \u001b[1;33m*\u001b[0m \u001b[0mnumpy\u001b[0m\u001b[1;33m.\u001b[0m\u001b[0mpi\u001b[0m \u001b[1;33m*\u001b[0m \u001b[0mt\u001b[0m\u001b[1;33m)\u001b[0m \u001b[1;33m+\u001b[0m \u001b[1;36m0.4\u001b[0m\u001b[1;33m*\u001b[0m\u001b[0mnumpy\u001b[0m\u001b[1;33m.\u001b[0m\u001b[0msin\u001b[0m\u001b[1;33m(\u001b[0m\u001b[1;36m0.2\u001b[0m\u001b[1;33m*\u001b[0m\u001b[0mnumpy\u001b[0m\u001b[1;33m.\u001b[0m\u001b[0mpi\u001b[0m\u001b[1;33m*\u001b[0m\u001b[0mt\u001b[0m\u001b[1;33m)\u001b[0m\u001b[1;33m)\u001b[0m\u001b[1;33m\u001b[0m\u001b[0m\n\u001b[0m",
        "\u001b[1;31mKeyboardInterrupt\u001b[0m: "
       ]
      }
     ],
     "prompt_number": 223
    },
    {
     "cell_type": "code",
     "collapsed": false,
     "input": [
      "coeffs = [[numpyintegsum(1/2**j, k/2**j) for j in range(1,20)] for k in range(1,500)]"
     ],
     "language": "python",
     "metadata": {},
     "outputs": [],
     "prompt_number": 224
    },
    {
     "cell_type": "code",
     "collapsed": false,
     "input": [
      "import matplotlib.pylab as plt"
     ],
     "language": "python",
     "metadata": {},
     "outputs": [],
     "prompt_number": 225
    },
    {
     "cell_type": "code",
     "collapsed": false,
     "input": [
      "%matplotlib inline"
     ],
     "language": "python",
     "metadata": {},
     "outputs": [],
     "prompt_number": 226
    },
    {
     "cell_type": "code",
     "collapsed": false,
     "input": [
      "plt.pcolor(numpy.transpose(numpy.array(coeffs))[:10,:150])"
     ],
     "language": "python",
     "metadata": {},
     "outputs": [
      {
       "metadata": {},
       "output_type": "pyout",
       "prompt_number": 230,
       "text": [
        "<matplotlib.collections.PolyCollection at 0x8ef9d82c>"
       ]
      },
      {
       "metadata": {},
       "output_type": "display_data",
       "png": "[encoded data removed]",
       "text": [
        "<matplotlib.figure.Figure at 0x8f4ccd6c>"
       ]
      }
     ],
     "prompt_number": 230
    },
    {
     "cell_type": "code",
     "collapsed": false,
     "input": [
      "sig = sympy.Lambda(t, sympy.sin(2.0*sympy.pi*t/T1) + alpha*sympy.sin(2.0*sympy.pi*t/T2))"
     ],
     "language": "python",
     "metadata": {},
     "outputs": [],
     "prompt_number": 201
    },
    {
     "cell_type": "code",
     "collapsed": false,
     "input": [
      "sympy.plot(sig.subs({alpha: 0.4, T1: 200.0, T2: 10})(t), (t,0, 500))"
     ],
     "language": "python",
     "metadata": {},
     "outputs": [
      {
       "metadata": {},
       "output_type": "display_data",
       "png": "[encoded data removed]",
       "text": [
        "<matplotlib.figure.Figure at 0xaf5f290c>"
       ]
      },
      {
       "metadata": {},
       "output_type": "pyout",
       "prompt_number": 206,
       "text": [
        "<sympy.plotting.plot.Plot at 0xaf5a1e8c>"
       ]
      }
     ],
     "prompt_number": 206
    },
    {
     "cell_type": "code",
     "collapsed": false,
     "input": [
      "plt.plot(numpy.transpose(numpy.array(coeffs))[6,:])"
     ],
     "language": "python",
     "metadata": {},
     "outputs": [
      {
       "metadata": {},
       "output_type": "pyout",
       "prompt_number": 210,
       "text": [
        "[<matplotlib.lines.Line2D at 0xaf4003ac>]"
       ]
      },
      {
       "metadata": {},
       "output_type": "display_data",
       "png": "[encoded data removed]",
       "text": [
        "<matplotlib.figure.Figure at 0xaf4a480c>"
       ]
      }
     ],
     "prompt_number": 210
    },
    {
     "cell_type": "code",
     "collapsed": false,
     "input": [
      "sig1 = sig.subs({alpha: 0.4, T1: 200.0, T2: 10})"
     ],
     "language": "python",
     "metadata": {},
     "outputs": [],
     "prompt_number": 212
    },
    {
     "cell_type": "code",
     "collapsed": false,
     "input": [
      "fourier = numpy.fft.fft(numpy.array([sig1(t) for t in range(0, 500)], dtype = numpy.complex))"
     ],
     "language": "python",
     "metadata": {},
     "outputs": [],
     "prompt_number": 217
    },
    {
     "cell_type": "code",
     "collapsed": false,
     "input": [
      "plt.plot(numpy.abs(fourier)[:256])"
     ],
     "language": "python",
     "metadata": {},
     "outputs": [
      {
       "metadata": {},
       "output_type": "pyout",
       "prompt_number": 221,
       "text": [
        "[<matplotlib.lines.Line2D at 0xaeeddbac>]"
       ]
      },
      {
       "metadata": {},
       "output_type": "display_data",
       "png": "[encoded data removed]",
       "text": [
        "<matplotlib.figure.Figure at 0xaef35ccc>"
       ]
      }
     ],
     "prompt_number": 221
    },
    {
     "cell_type": "code",
     "collapsed": false,
     "input": [
      "def num_int(j,k,t):\n",
      "    cond = (2**j*(t-2**(-j)*k))\n",
      "    if 0 <= cond < 0.5:\n",
      "        return 2.0**(0.5*j) * numpy.sin(0.01*numpy.pi*t) + 0.4*numpy.sin(0.2*numpy.pi*t)\n",
      "    if 0.5 <= cond < 1:\n",
      "        return -2.0**(0.5*j) * numpy.sin(0.01*numpy.pi*t) + 0.4*numpy.sin(0.2*numpy.pi*t)\n",
      "    else:\n",
      "        return 0"
     ],
     "language": "python",
     "metadata": {},
     "outputs": [],
     "prompt_number": 201
    },
    {
     "cell_type": "code",
     "collapsed": false,
     "input": [
      "def num_int(a,b,t):\n",
      "    cond = 1/a * (-b + t)\n",
      "    if 0 <= cond < 0.5:\n",
      "        return 1.0/numpy.abs(a)**(0.5) * numpy.sin(0.01*numpy.pi*t) + 0.4*numpy.sin(0.2*numpy.pi*t)\n",
      "    if 0.5 <= cond < 1:\n",
      "        return -1.0/numpy.abs(a)**(0.5) * numpy.sin(0.01*numpy.pi*t) + 0.4*numpy.sin(0.2*numpy.pi*t)\n",
      "    else:\n",
      "        return 0"
     ],
     "language": "python",
     "metadata": {},
     "outputs": [],
     "prompt_number": 231
    },
    {
     "cell_type": "code",
     "collapsed": false,
     "input": [
      "2**j*(t-2**(-j)*k)"
     ],
     "language": "python",
     "metadata": {},
     "outputs": [
      {
       "latex": [
        "$$2^{j} \\left(t - 2^{- j} k\\right)$$"
       ],
       "metadata": {},
       "output_type": "pyout",
       "png": "[encoded data removed]",
       "prompt_number": 202,
       "text": [
        " j \u239b     -j  \u239e\n",
        "2 \u22c5\u239dt - 2  \u22c5k\u23a0"
       ]
      }
     ],
     "prompt_number": 202
    },
    {
     "cell_type": "code",
     "collapsed": false,
     "input": [
      "num_int(0,0,1)"
     ],
     "language": "python",
     "metadata": {},
     "outputs": [
      {
       "ename": "ZeroDivisionError",
       "evalue": "division by zero",
       "output_type": "pyerr",
       "traceback": [
        "\u001b[1;31m---------------------------------------------------------------------------\u001b[0m\n\u001b[1;31mZeroDivisionError\u001b[0m                         Traceback (most recent call last)",
        "\u001b[1;32m<ipython-input-232-f650b904aae7>\u001b[0m in \u001b[0;36m<module>\u001b[1;34m()\u001b[0m\n\u001b[1;32m----> 1\u001b[1;33m \u001b[0mnum_int\u001b[0m\u001b[1;33m(\u001b[0m\u001b[1;36m0\u001b[0m\u001b[1;33m,\u001b[0m\u001b[1;36m0\u001b[0m\u001b[1;33m,\u001b[0m\u001b[1;36m1\u001b[0m\u001b[1;33m)\u001b[0m\u001b[1;33m\u001b[0m\u001b[0m\n\u001b[0m",
        "\u001b[1;32m<ipython-input-231-57d288d47f42>\u001b[0m in \u001b[0;36mnum_int\u001b[1;34m(a, b, t)\u001b[0m\n\u001b[0;32m      1\u001b[0m \u001b[1;32mdef\u001b[0m \u001b[0mnum_int\u001b[0m\u001b[1;33m(\u001b[0m\u001b[0ma\u001b[0m\u001b[1;33m,\u001b[0m\u001b[0mb\u001b[0m\u001b[1;33m,\u001b[0m\u001b[0mt\u001b[0m\u001b[1;33m)\u001b[0m\u001b[1;33m:\u001b[0m\u001b[1;33m\u001b[0m\u001b[0m\n\u001b[1;32m----> 2\u001b[1;33m     \u001b[0mcond\u001b[0m \u001b[1;33m=\u001b[0m \u001b[1;36m1\u001b[0m\u001b[1;33m/\u001b[0m\u001b[0ma\u001b[0m \u001b[1;33m*\u001b[0m \u001b[1;33m(\u001b[0m\u001b[1;33m-\u001b[0m\u001b[0mb\u001b[0m \u001b[1;33m+\u001b[0m \u001b[0mt\u001b[0m\u001b[1;33m)\u001b[0m\u001b[1;33m\u001b[0m\u001b[0m\n\u001b[0m\u001b[0;32m      3\u001b[0m     \u001b[1;32mif\u001b[0m \u001b[1;36m0\u001b[0m \u001b[1;33m<=\u001b[0m \u001b[0mcond\u001b[0m \u001b[1;33m<\u001b[0m \u001b[1;36m0.5\u001b[0m\u001b[1;33m:\u001b[0m\u001b[1;33m\u001b[0m\u001b[0m\n\u001b[0;32m      4\u001b[0m         \u001b[1;32mreturn\u001b[0m \u001b[1;36m1.0\u001b[0m\u001b[1;33m/\u001b[0m\u001b[0mnumpy\u001b[0m\u001b[1;33m.\u001b[0m\u001b[0mabs\u001b[0m\u001b[1;33m(\u001b[0m\u001b[0ma\u001b[0m\u001b[1;33m)\u001b[0m\u001b[1;33m**\u001b[0m\u001b[1;33m(\u001b[0m\u001b[1;36m0.5\u001b[0m\u001b[1;33m)\u001b[0m \u001b[1;33m*\u001b[0m \u001b[0mnumpy\u001b[0m\u001b[1;33m.\u001b[0m\u001b[0msin\u001b[0m\u001b[1;33m(\u001b[0m\u001b[1;36m0.01\u001b[0m\u001b[1;33m*\u001b[0m\u001b[0mnumpy\u001b[0m\u001b[1;33m.\u001b[0m\u001b[0mpi\u001b[0m\u001b[1;33m*\u001b[0m\u001b[0mt\u001b[0m\u001b[1;33m)\u001b[0m \u001b[1;33m+\u001b[0m \u001b[1;36m0.4\u001b[0m\u001b[1;33m*\u001b[0m\u001b[0mnumpy\u001b[0m\u001b[1;33m.\u001b[0m\u001b[0msin\u001b[0m\u001b[1;33m(\u001b[0m\u001b[1;36m0.2\u001b[0m\u001b[1;33m*\u001b[0m\u001b[0mnumpy\u001b[0m\u001b[1;33m.\u001b[0m\u001b[0mpi\u001b[0m\u001b[1;33m*\u001b[0m\u001b[0mt\u001b[0m\u001b[1;33m)\u001b[0m\u001b[1;33m\u001b[0m\u001b[0m\n\u001b[0;32m      5\u001b[0m     \u001b[1;32mif\u001b[0m \u001b[1;36m0.5\u001b[0m \u001b[1;33m<=\u001b[0m \u001b[0mcond\u001b[0m \u001b[1;33m<\u001b[0m \u001b[1;36m1\u001b[0m\u001b[1;33m:\u001b[0m\u001b[1;33m\u001b[0m\u001b[0m\n",
        "\u001b[1;31mZeroDivisionError\u001b[0m: division by zero"
       ]
      }
     ],
     "prompt_number": 232
    },
    {
     "cell_type": "code",
     "collapsed": false,
     "input": [
      "ans = [[numpy.sum([num_int(j,k,t) for t in range(-1000, 1000)]) for j in range(1,20)] for k in range(1,500)]"
     ],
     "language": "python",
     "metadata": {},
     "outputs": [],
     "prompt_number": 233
    },
    {
     "cell_type": "code",
     "collapsed": false,
     "input": [
      "plt.pcolor(numpy.transpose(numpy.array(ans,dtype = numpy.float)))"
     ],
     "language": "python",
     "metadata": {},
     "outputs": [
      {
       "metadata": {},
       "output_type": "pyout",
       "prompt_number": 234,
       "text": [
        "<matplotlib.collections.PolyCollection at 0x8ef8a80c>"
       ]
      },
      {
       "metadata": {},
       "output_type": "display_data",
       "png": "[encoded data removed]",
       "text": [
        "<matplotlib.figure.Figure at 0x8f357e0c>"
       ]
      }
     ],
     "prompt_number": 234
    },
    {
     "cell_type": "code",
     "collapsed": false,
     "input": [],
     "language": "python",
     "metadata": {},
     "outputs": []
    }
   ],
   "metadata": {}
  }
 ]
}